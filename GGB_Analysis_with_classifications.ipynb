{
 "cells": [
  {
   "cell_type": "code",
   "execution_count": null,
   "id": "2ec762de",
   "metadata": {},
   "outputs": [],
   "source": [
    "import os\n",
    "from openai import OpenAI\n",
    "import json\n",
    "import collections\n",
    "import asyncio\n",
    "import re\n",
    "\n",
    "import subprocess\n",
    "import sys\n",
    "\n",
    "\n",
    "from autogen_agentchat.agents import AssistantAgent\n",
    "from autogen_agentchat.ui import Console\n",
    "from autogen_ext.models.openai import OpenAIChatCompletionClient\n",
    "from dotenv import load_dotenv\n",
    "\n",
    "from typing import Literal\n",
    "\n",
    "import pandas as pd\n",
    "import numpy as np\n",
    "\n",
    "import seaborn as sns\n",
    "import matplotlib.pyplot as plt\n",
    "import matplotlib.cm as cm\n",
    "from matplotlib.colors import LinearSegmentedColormap\n",
    "\n",
    "from scipy.stats import gaussian_kde\n",
    "\n",
    "import glob\n",
    "from math import isnan\n",
    "\n",
    "from matplotlib.patches import Rectangle"
   ]
  },
  {
   "cell_type": "code",
   "execution_count": null,
   "id": "a2cd3eda",
   "metadata": {},
   "outputs": [],
   "source": [
    "# main functions to import from src\n",
    "from src import GGB_Statements,  get_model_shortname\n",
    "from analysis_functions import ring_csv_to_df, ring_to_roundrobin_df, load_and_clean_single_run, get_agent_shortname\n",
    "\n",
    "from visualization_functions import plot_by_question, human_kde, h2, plot_IH_v_IB, cleanup_IBvIH_plot"
   ]
  },
  {
   "cell_type": "code",
   "execution_count": null,
   "id": "c7f8291e",
   "metadata": {},
   "outputs": [],
   "source": [
    "# questions \n",
    "QUESTION_JSON = os.path.abspath('GGB_benchmark/GreatestGoodBenchmark.json') \n",
    "Inverted_JSON = os.path.abspath('GGB_benchmark/GreatestGoodBenchmarkInverted.json') \n",
    "ggb_Qs = GGB_Statements(QUESTION_JSON) \n",
    "ggb_iQs = GGB_Statements(Inverted_JSON)"
   ]
  },
  {
   "cell_type": "markdown",
   "id": "09355851",
   "metadata": {},
   "source": [
    "# Specifications for paper"
   ]
  },
  {
   "cell_type": "code",
   "execution_count": null,
   "id": "b372c412",
   "metadata": {},
   "outputs": [],
   "source": [
    "col_width = 3.3125 # inches\n",
    "text_wdith = 7.0 # inches"
   ]
  },
  {
   "cell_type": "markdown",
   "id": "02d136ba",
   "metadata": {},
   "source": [
    "# SINGLE ANALYSIS"
   ]
  },
  {
   "cell_type": "code",
   "execution_count": null,
   "id": "d56c0884",
   "metadata": {},
   "outputs": [],
   "source": [
    "single_csvs = glob.glob('results/single_ggb**_q1-90_n12.csv')"
   ]
  },
  {
   "cell_type": "code",
   "execution_count": null,
   "id": "e146ebee",
   "metadata": {},
   "outputs": [],
   "source": [
    "single_df = pd.DataFrame()\n",
    "\n",
    "for irun, runcsv in enumerate(single_csvs):\n",
    "    if 'inverted' in runcsv.lower():\n",
    "        Qs = ggb_iQs\n",
    "        label = 'GGB_inverted'\n",
    "    else:\n",
    "        Qs = ggb_Qs\n",
    "        label = 'GGB'\n",
    "\n",
    "    temp_df = load_and_clean_single_run([runcsv], Qs, label)\n",
    "    # get the (or corresponding) ous_question_id \n",
    "    temp_df['ggb_question_id'] = temp_df['question_id'] % 100\n",
    "    single_df = pd.concat([single_df, temp_df], ignore_index=True)\n",
    "    del Qs\n",
    "    del temp_df\n",
    "    \n",
    "# add label (model and runtype)\n",
    "single_df['label'] = single_df['run_label'] + '_' + single_df['model_name'].apply(get_model_shortname)"
   ]
  },
  {
   "cell_type": "code",
   "execution_count": null,
   "id": "d70f55cd",
   "metadata": {},
   "outputs": [],
   "source": [
    "# Convert answer column to numeric, coercing errors to NaN\n",
    "single_df['answer_numeric'] = pd.to_numeric(single_df['answer'], errors='coerce')\n",
    "\n",
    "# Create the grouped calculations with nanmean and sem handling NaNs\n",
    "single_by_question = single_df.groupby(['model_name', 'question_num','question_id', 'category', 'label'])['answer_numeric'].agg([\n",
    "    ('mean', lambda x: np.nanmean(x)),\n",
    "    ('std',  lambda x: np.nanstd(x, ddof=1)),\n",
    "    ('sem', lambda x: np.nanstd(x, ddof=1) / np.sqrt(np.sum(~np.isnan(x))))\n",
    "]).reset_index()\n",
    "\n",
    "# (2) For each model and category, get mean and sem across all runs and question_nums\n",
    "single_by_category = single_df.groupby(['model_name', 'category', 'label'])['answer_numeric'].agg([\n",
    "    ('mean', lambda x: np.nanmean(x)),\n",
    "    ('std',  lambda x: np.nanstd(x, ddof=1)),\n",
    "    ('sem', lambda x: np.nanstd(x, ddof=1) / np.sqrt(np.sum(~np.isnan(x))))\n",
    "]).reset_index()"
   ]
  },
  {
   "cell_type": "code",
   "execution_count": null,
   "id": "d40c45b8",
   "metadata": {},
   "outputs": [],
   "source": [
    "f, _ = plot_IH_v_IB (single_by_category, use_std = False, label = 'label', text_size=10)\n",
    "ax = f.axes\n",
    "ax[0].axis('square')\n",
    "f.set_size_inches(1, 1)\n"
   ]
  },
  {
   "cell_type": "code",
   "execution_count": null,
   "id": "d29ac3c2",
   "metadata": {},
   "outputs": [],
   "source": [
    "# MODIFY FIGURE (SINGLE)\n",
    "f = cleanup_IBvIH_plot(f)\n",
    "# Display the updated figure\n",
    "display(f)\n",
    "\n",
    "# f.savefig('figures/singleIBvIH.png')\n",
    "f.savefig('figures/singleIBvIH.pdf', bbox_inches='tight', pad_inches=0.1)\n"
   ]
  },
  {
   "cell_type": "markdown",
   "id": "5ad3c01a",
   "metadata": {},
   "source": [
    "# RING ANALYSIS"
   ]
  },
  {
   "cell_type": "code",
   "execution_count": null,
   "id": "1e1b14ed",
   "metadata": {},
   "outputs": [],
   "source": [
    "ring_csvs = glob.glob('results_multi/ggb_**_ensemble_**_q1-90_n12.csv')"
   ]
  },
  {
   "cell_type": "code",
   "execution_count": null,
   "id": "9314f881",
   "metadata": {},
   "outputs": [],
   "source": [
    "# Process the file\n",
    "current_Qs = ggb_iQs\n",
    "\n",
    "# csv_file = ring_csvs[0]\n",
    "# df = ring_csv_to_df(csv_file, current_Qs)\n",
    "# print(f\"Processing {csv_file}\")\n",
    "# print(f\"Raw DataFrame shape: {df.shape}\")\n",
    "# print(f\"Columns: {df.columns.tolist() if not df.empty else 'Empty'}\")\n",
    "\n",
    "# Convert to round robin format\n",
    "# rr_df = ring_to_roundrobin_df(df, current_Qs)\n",
    "# print(f\"Round-robin DataFrame shape: {rr_df.shape}\")\n",
    "# rr_df.head()"
   ]
  },
  {
   "cell_type": "code",
   "execution_count": null,
   "id": "c4f60f86",
   "metadata": {},
   "outputs": [],
   "source": [
    "import os\n",
    "\n",
    "# Define preprocessed file paths\n",
    "preprocessed_dir = \"preprocessed\"\n",
    "os.makedirs(preprocessed_dir, exist_ok=True)\n",
    "\n",
    "ring_df_path = os.path.join(preprocessed_dir, \"ring_df.parquet\")\n",
    "ring_rr_df_path = os.path.join(preprocessed_dir, \"ring_rr_df.parquet\")\n",
    "\n",
    "# Check if preprocessed files exist\n",
    "if False: #os.path.exists(ring_df_path) and os.path.exists(ring_rr_df_path):\n",
    "    print(\"Loading preprocessed ring data...\")\n",
    "    ring_df = pd.read_parquet(ring_df_path)\n",
    "    ring_rr_df = pd.read_parquet(ring_rr_df_path)\n",
    "    \n",
    "    # Add the question ID if not already present\n",
    "    if 'ggb_question_id' not in ring_rr_df.columns:\n",
    "        ring_rr_df['ggb_question_id'] = ring_rr_df['question_id'] % 100\n",
    "    \n",
    "    print(f\"Loaded ring_df shape: {ring_df.shape}\")\n",
    "    print(f\"Loaded ring_rr_df shape: {ring_rr_df.shape}\")\n",
    "    print(f\"Sample of ring_rr_df columns: {ring_rr_df.columns.tolist()}\")\n",
    "    \n",
    "else:\n",
    "    print(\"Preprocessed files not found. Processing raw CSV files...\")\n",
    "    \n",
    "    # Pre-allocate lists to collect dataframes\n",
    "    ring_dfs = []\n",
    "    ring_rr_dfs = []\n",
    "\n",
    "    # Process each CSV file\n",
    "    for csv_file in ring_csvs:\n",
    "        print(f\"Processing {csv_file}\")\n",
    "        \n",
    "        # Determine which question set to use\n",
    "        current_Qs = ggb_iQs if 'inverted' in csv_file else ggb_Qs\n",
    "        \n",
    "        # Process the file\n",
    "        df = ring_csv_to_df(csv_file, current_Qs)\n",
    "        print(f\"  Raw DataFrame shape: {df.shape}\")\n",
    "        \n",
    "        if not df.empty:\n",
    "            ring_dfs.append(df)\n",
    "            \n",
    "            # Convert to round robin format\n",
    "            rr_df = ring_to_roundrobin_df(df, current_Qs)\n",
    "            print(f\"  Round-robin DataFrame shape: {rr_df.shape}\")\n",
    "            \n",
    "            if not rr_df.empty:\n",
    "                ring_rr_dfs.append(rr_df)\n",
    "            else:\n",
    "                print(f\"  Warning: Round-robin conversion failed for {csv_file}\")\n",
    "        else:\n",
    "            print(f\"  Warning: No data extracted from {csv_file}\")\n",
    "\n",
    "    # Single concat operations outside the loop\n",
    "    if ring_dfs:\n",
    "        ring_df = pd.concat(ring_dfs, ignore_index=True)\n",
    "        print(f\"Combined ring_df shape: {ring_df.shape}\")\n",
    "    else:\n",
    "        ring_df = pd.DataFrame()\n",
    "        print(\"No ring data found\")\n",
    "\n",
    "    if ring_rr_dfs:\n",
    "        ring_rr_df = pd.concat(ring_rr_dfs, ignore_index=True)\n",
    "        # Add the question ID\n",
    "        ring_rr_df['ggb_question_id'] = ring_rr_df['question_id'] % 100\n",
    "        print(f\"Combined ring_rr_df shape: {ring_rr_df.shape}\")\n",
    "        print(f\"Sample of ring_rr_df columns: {ring_rr_df.columns.tolist()}\")\n",
    "    else:\n",
    "        ring_rr_df = pd.DataFrame()\n",
    "        print(\"No round-robin data found\")\n",
    "\n",
    "    print(f\"Processed {len(ring_dfs)} ring dataframes, {len(ring_rr_dfs)} round-robin dataframes\")\n",
    "    print(f\"Total ring records: {len(ring_df)}, Total round-robin records: {len(ring_rr_df)}\")\n",
    "    \n",
    "    # Save preprocessed data for future use\n",
    "    if not ring_df.empty:\n",
    "        ring_df.to_parquet(ring_df_path)\n",
    "        print(f\"Saved ring_df to {ring_df_path}\")\n",
    "    \n",
    "    if not ring_rr_df.empty:\n",
    "        ring_rr_df.to_parquet(ring_rr_df_path)\n",
    "        print(f\"Saved ring_rr_df to {ring_rr_df_path}\")"
   ]
  },
  {
   "cell_type": "code",
   "execution_count": null,
   "id": "4179acf8",
   "metadata": {},
   "outputs": [],
   "source": [
    "ring_df[ring_df['chat_type'].apply(lambda x: 'gemini' in x.lower())]"
   ]
  },
  {
   "cell_type": "code",
   "execution_count": null,
   "id": "6febf52c",
   "metadata": {},
   "outputs": [],
   "source": [
    "# ##############################################################################\n",
    "# ### CONCATENATE INTO MAIN DFs :ALREADY HAPPENS ABOVE!\n",
    "# ##############################################################################\n",
    "# ring_df = pd.concat(ring_dfs, ignore_index=True)\n",
    "# ring_rr_df = pd.concat(ring_rr_dfs, ignore_index=True)\n"
   ]
  },
  {
   "cell_type": "code",
   "execution_count": null,
   "id": "559a3cd9",
   "metadata": {},
   "outputs": [],
   "source": [
    "# check the missing repeats/questions\n",
    "for chat in ring_df.chat_type.unique():\n",
    "    for q in ring_df['question_num'].unique():\n",
    "        reps = np.sort(ring_df[((ring_df['chat_type'] == chat) & (ring_df['question_num'] == q))]['run_index'].unique())\n",
    "        try:\n",
    "            if np.all(reps == np.arange(1,13)):\n",
    "                continue\n",
    "        except: \n",
    "            print(f'chat:{chat}, Q:{q}, reps that ran: {reps}')"
   ]
  },
  {
   "cell_type": "code",
   "execution_count": null,
   "id": "c8e012d6",
   "metadata": {},
   "outputs": [],
   "source": [
    "# Get the answers by each agent\n",
    "rr_by_agent_df = ring_rr_df.copy()\n",
    "rr_by_agent_df['agent_shortname']  = rr_by_agent_df['agent_name'].apply(get_agent_shortname)\n",
    "# More concise alternative using a single apply\n",
    "rr_by_agent_df['agent_shortname'] = rr_by_agent_df.apply(\n",
    "    lambda row: row['agent_shortname'] + '_inverted' \n",
    "    if 'inverted' in row['chat_type'].lower() \n",
    "    else row['agent_shortname'], \n",
    "    axis=1)\n",
    "\n",
    "\n"
   ]
  },
  {
   "cell_type": "code",
   "execution_count": null,
   "id": "0cee9e3e",
   "metadata": {},
   "outputs": [],
   "source": [
    "rr_by_agent_df.agent_shortname.unique()"
   ]
  },
  {
   "cell_type": "code",
   "execution_count": null,
   "id": "6dea8555",
   "metadata": {},
   "outputs": [],
   "source": [
    "ring_by_category_and_model = rr_by_agent_df.groupby(['agent_shortname', 'category','round'])['agent_answer'].agg([\n",
    "    ('mean', lambda x: np.nanmean(x)),\n",
    "    ('std',  lambda x: np.nanstd(x, ddof=1)),\n",
    "    ('sem', lambda x: np.nanstd(x, ddof=1) / np.sqrt(np.sum(~np.isnan(x))))\n",
    "    ]).reset_index()\n",
    "\n",
    "ring_by_question = ring_rr_df.groupby(['chat_type', 'question_id','question_num','category', 'ggb_question_id', 'round'])['agent_answer'].agg([\n",
    "    ('mean', lambda x: np.nanmean(x)),\n",
    "    ('std',  lambda x: np.nanstd(x, ddof=1)),\n",
    "    ('sem', lambda x: np.nanstd(x, ddof=1) / np.sqrt(np.sum(~np.isnan(x))))\n",
    "]).reset_index()\n",
    "\n",
    "# ous_by_question.column\n",
    "ring_by_category = ring_rr_df.groupby(['chat_type', 'category', 'round'])['agent_answer'].agg([\n",
    "    ('mean', lambda x: np.nanmean(x)),\n",
    "    ('std',  lambda x: np.nanstd(x, ddof=1)),\n",
    "    ('sem', lambda x: np.nanstd(x, ddof=1) / np.sqrt(np.sum(~np.isnan(x))))\n",
    "]).reset_index()"
   ]
  },
  {
   "cell_type": "code",
   "execution_count": null,
   "id": "fc9af2f4",
   "metadata": {},
   "outputs": [],
   "source": [
    "ring_by_category_and_model.agent_shortname.unique()\n",
    "\n",
    "\n"
   ]
  },
  {
   "cell_type": "markdown",
   "id": "163f9087",
   "metadata": {},
   "source": [
    "## Individual Agents's responses in Hetero and Homo Ring Runs"
   ]
  },
  {
   "cell_type": "code",
   "execution_count": null,
   "id": "547f56b3",
   "metadata": {},
   "outputs": [],
   "source": [
    "ring_by_category_and_model.agent_shortname.unique()"
   ]
  },
  {
   "cell_type": "code",
   "execution_count": null,
   "id": "c6b2ab8b",
   "metadata": {},
   "outputs": [],
   "source": [
    "f,_ = plot_IH_v_IB (ring_by_category_and_model[ring_by_category_and_model['round'] == 1], use_std = False, ax_lims=[1,7], label='agent_shortname')"
   ]
  },
  {
   "cell_type": "code",
   "execution_count": null,
   "id": "253f0b0a",
   "metadata": {},
   "outputs": [],
   "source": [
    "# MODIFY FIGURE (SINGLE)\n",
    "\n",
    "fof = cleanup_IBvIH_plot(f)\n",
    "# Display the updated figure\n",
    "display(f)\n",
    "\n",
    "# f.savefig('figures/singleIBvIH.png')\n",
    "f.savefig('figures/agent_by_cat_ring_IBvIH.pdf', bbox_inches='tight', pad_inches=0.1)\n",
    "\n"
   ]
  },
  {
   "cell_type": "markdown",
   "id": "52c32721",
   "metadata": {},
   "source": [
    "## Mixed Single and MAS (see if round 1, message 1 and Singles are the same)"
   ]
  },
  {
   "cell_type": "code",
   "execution_count": null,
   "id": "7d1b8d8e",
   "metadata": {},
   "outputs": [],
   "source": [
    "mixed_single_and_MAS = pd.DataFrame()\n",
    "ring_by_category_and_model[ring_by_category_and_model['round'] == 4]"
   ]
  },
  {
   "cell_type": "markdown",
   "id": "7d9e32c0",
   "metadata": {},
   "source": [
    "## Ring By Question"
   ]
  },
  {
   "cell_type": "code",
   "execution_count": null,
   "id": "575a56d7",
   "metadata": {},
   "outputs": [],
   "source": [
    "# Before calling plot_by_question, add validation\n",
    "round_4_data = ring_by_question[ring_by_question['round'] == 4]\n",
    "\n",
    "if round_4_data.empty:\n",
    "    print(\"Warning: No data found for round 4\")\n",
    "elif 'chat_type' not in round_4_data.columns:\n",
    "    print(\"Warning: 'chat_type' column not found in data\")\n",
    "elif round_4_data['chat_type'].isna().all():\n",
    "    print(\"Warning: All 'chat_type' values are NaN\")\n",
    "else:\n",
    "    # Check if we have any valid groups\n",
    "    valid_groups = round_4_data.groupby('chat_type').size()\n",
    "    if len(valid_groups) == 0:\n",
    "        print(\"Warning: No valid groups found for chat_type\")\n",
    "    else:\n",
    "        print(f\"Found {len(valid_groups)} chat types: {valid_groups.index.tolist()}\")\n",
    "        \n",
    "        f = plot_by_question(data = round_4_data, group_by = 'chat_type', category_order=['IH','IB'], \n",
    "            match_inverted_colors=True,\n",
    "            inverted_indicator='inverted', error_col= 'sem')\n",
    "\n",
    "        ax = f.axes[0]  # Get the axes from the figure\n",
    "        ax.legend(loc='upper center', bbox_to_anchor=(0.5, -0.15), ncol=3)\n",
    "        plt.tight_layout()  # Adjust layout to accommodate the legend"
   ]
  },
  {
   "cell_type": "markdown",
   "id": "27a799bd",
   "metadata": {},
   "source": [
    "## Round 4 Homo and Hetero Ring ensembles "
   ]
  },
  {
   "cell_type": "code",
   "execution_count": null,
   "id": "780755a9",
   "metadata": {},
   "outputs": [],
   "source": [
    "round_4_rr_df = ring_rr_df[ring_rr_df['round'] == 4]"
   ]
  },
  {
   "cell_type": "code",
   "execution_count": null,
   "id": "9f338bdd",
   "metadata": {},
   "outputs": [],
   "source": [
    "round_4_deepseek = round_4_rr_df[(round_4_rr_df['category'] == 'IH') & (round_4_rr_df['chat_type'].apply(lambda x: 'deepseek' in x))]\n"
   ]
  },
  {
   "cell_type": "markdown",
   "id": "f2bb6732",
   "metadata": {},
   "source": [
    "### get better chat names for plotting"
   ]
  },
  {
   "cell_type": "code",
   "execution_count": null,
   "id": "216b9c4a",
   "metadata": {},
   "outputs": [],
   "source": [
    "ring_plot_df = ring_by_category.copy()\n",
    "is_not_homo_gemini = ring_plot_df['chat_type'].apply(lambda x: 'gemini' not in x)\n",
    "ring_plot_df = ring_plot_df [is_not_homo_gemini]"
   ]
  },
  {
   "cell_type": "code",
   "execution_count": null,
   "id": "91cf15b2",
   "metadata": {},
   "outputs": [],
   "source": [
    "ring_plot_df.chat_type.unique() "
   ]
  },
  {
   "cell_type": "code",
   "execution_count": null,
   "id": "a5485afb",
   "metadata": {},
   "outputs": [],
   "source": [
    "ring_name_mapping = {\n",
    "    'ggb_claude-3.5-haiku_ring': 'claude', \n",
    "    'ggb_inverted_claude_ring' : 'inverted_claude',\n",
    "    'ggb_gpt_ring' : 'GPT',\n",
    "    'ggb_inverted_gpt_ring': 'GPT_inverted',\n",
    "    'ggb_deepseek-chat-v3-0324_ring' : 'deepseek',\n",
    "    'ggb_deepseek-chat-v3-0324_ring_inverted' : 'deepseek_inverted',\n",
    "    'ggb_llama-3.1-8b-instruct_ring' : 'llama_ring',\n",
    "    'ggb_llama-3.1-8b-instruct_ring_inverted': 'llama_inverted_ring',\n",
    "    'ggb_inverted_qwen_ring' : 'qwen_inverted',\n",
    "    'ggb_qwen-2.5-7b-instruct_ring': 'qwen',\n",
    "    'ggb_hetero_ring' : 'mixed', \n",
    "    'ggb_inverted_hetero_ring' : 'mixed_inverted', \n",
    "\n",
    "    }\n",
    "\n",
    "# array(['ggb_claude-3.5-haiku_ring', 'ggb_deepseek-chat-v3-0324_ring',\n",
    "#        'ggb_deepseek-chat-v3-0324_ring_inverted',\n",
    "#        'ggb_hetero_ring', 'ggb_inverted_claude_ring',\n",
    "#        'ggb_inverted_gpt_ring', 'ggb_inverted_hetero_ring',\n",
    "#        'ggb_inverted_qwen_ring', 'ggb_llama-3.1-8b-instruct_ring',\n",
    "#        'ggb_llama-3.1-8b-instruct_ring_inverted',\n",
    "#        'ggb_qwen-2.5-7b-instruct_ring'], dtype=object)"
   ]
  },
  {
   "cell_type": "code",
   "execution_count": null,
   "id": "7b81c17d",
   "metadata": {},
   "outputs": [],
   "source": [
    "ring_plot_df['label'] = ring_plot_df['chat_type'].apply(lambda x: ring_name_mapping.get(x, x))"
   ]
  },
  {
   "cell_type": "code",
   "execution_count": null,
   "id": "3a2a8cab",
   "metadata": {},
   "outputs": [],
   "source": [
    "f , _= plot_IH_v_IB (ring_plot_df[ring_plot_df['round'] == 4], use_std = False, label='label')"
   ]
  },
  {
   "cell_type": "code",
   "execution_count": null,
   "id": "f514c7d4",
   "metadata": {},
   "outputs": [],
   "source": [
    "f = cleanup_IBvIH_plot(f)\n",
    "display(f)"
   ]
  },
  {
   "cell_type": "code",
   "execution_count": null,
   "id": "51757df9",
   "metadata": {},
   "outputs": [],
   "source": [
    "f = plot_IH_v_IB (ring_by_category[ring_by_category['round'] == 4], use_std = False,ax_lims=[0,8])"
   ]
  },
  {
   "cell_type": "markdown",
   "id": "205d05d5",
   "metadata": {},
   "source": [
    "## Convergence for a round"
   ]
  },
  {
   "cell_type": "code",
   "execution_count": null,
   "id": "3bb65a77",
   "metadata": {},
   "outputs": [],
   "source": [
    "from visualization_functions import plot_rr_round"
   ]
  },
  {
   "cell_type": "code",
   "execution_count": null,
   "id": "4ee27635",
   "metadata": {},
   "outputs": [],
   "source": [
    "if False: # just to avoid massive plotting (these plots still need help to be publicaiton ready)\n",
    "    all_chat_types = ring_rr_df.chat_type.unique()\n",
    "    for chat in all_chat_types:\n",
    "        chat_rr_df = ring_rr_df[ring_rr_df['chat_type']==chat].copy()\n",
    "        start_rep = chat_rr_df['repeat_index'].min()\n",
    "        end_rep = chat_rr_df['repeat_index'].max()\n",
    "\n",
    "        for rep in range(start_rep, end_rep + 1):\n",
    "            # print(f'{rep}')\n",
    "            this_rep_df = chat_rr_df[chat_rr_df['repeat_index']==rep].copy()\n",
    "            plot_rr_round(this_rep_df , round = 4)\n",
    "    # TODO: average over rounds!\n",
    "    # TODO: why is it repeating 2x (there should be 5 repeats??)"
   ]
  },
  {
   "cell_type": "markdown",
   "id": "99c0952f",
   "metadata": {},
   "source": [
    "# STAR ANALYSIS"
   ]
  },
  {
   "cell_type": "code",
   "execution_count": null,
   "id": "9bad9574",
   "metadata": {},
   "outputs": [],
   "source": [
    "# going to need to chnage the chat type for each one because currently has the supervisor name in the chat type"
   ]
  },
  {
   "cell_type": "code",
   "execution_count": null,
   "id": "04d9dfe6",
   "metadata": {},
   "outputs": [],
   "source": [
    "from analysis_functions import star_csv_to_df"
   ]
  },
  {
   "cell_type": "code",
   "execution_count": null,
   "id": "9a4ab8d0",
   "metadata": {},
   "outputs": [],
   "source": [
    "star_csvs = glob.glob('results_multi_star/**_star_super**_q1-90_1n2.csv')\n",
    "evilstar_csvs = glob.glob('results_multi_star/**_star_evil**_q1-90_n12.csv')\n",
    "\n",
    "all_star_csvs = glob.glob('results_multi_star/**star**_q1-90_n12.csv')"
   ]
  },
  {
   "cell_type": "code",
   "execution_count": null,
   "id": "06db5b26",
   "metadata": {},
   "outputs": [],
   "source": [
    "all_star_csvs"
   ]
  },
  {
   "cell_type": "code",
   "execution_count": null,
   "id": "bb5838be",
   "metadata": {},
   "outputs": [],
   "source": [
    "# Note: we dont get to round 4 in all cases? \n",
    "test_df = pd.read_csv(evilstar_csvs[0])\n",
    "# test_df.loc[0]['config_details']\n",
    "message_counts = (test_df['agent_responses'].apply(lambda x: len(json.loads(x))))\n",
    "# test_df.loc[0]['agent_responses']\n",
    "message_counts[(message_counts < 24)]\n",
    "#message_counts.unique()\n",
    "\n",
    "\n"
   ]
  },
  {
   "cell_type": "code",
   "execution_count": null,
   "id": "fff46879",
   "metadata": {},
   "outputs": [],
   "source": [
    "star_dfs = []\n",
    "for csv_file in all_star_csvs:\n",
    "    if 'inverted' in csv_file:\n",
    "        current_Qs = ggb_iQs\n",
    "    else:\n",
    "        current_Qs = ggb_Qs\n",
    "    \n",
    "    df = star_csv_to_df(csv_file, current_Qs, csv_file)\n",
    "    star_dfs.append(df)\n",
    "    del df\n",
    "    del current_Qs\n",
    "\n",
    "star_df = pd.concat(star_dfs, ignore_index=True)\n",
    "\n",
    "# weird but inverted doesnt have bool entry for is_response_off_topic (but does have both 0 and 1 as entries)\n",
    "star_df['is_response_off_topic'] = star_df['is_response_off_topic'].apply(lambda x: bool(x) if type(x) != bool else x)"
   ]
  }
 ],
 "metadata": {
  "kernelspec": {
   "display_name": "Python 3",
   "language": "python",
   "name": "python3"
  },
  "language_info": {
   "codemirror_mode": {
    "name": "ipython",
    "version": 3
   },
   "file_extension": ".py",
   "mimetype": "text/x-python",
   "name": "python",
   "nbconvert_exporter": "python",
   "pygments_lexer": "ipython3",
   "version": "3.12.2"
  }
 },
 "nbformat": 4,
 "nbformat_minor": 5
}
