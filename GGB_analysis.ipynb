{
 "cells": [
  {
   "cell_type": "code",
   "execution_count": 44,
   "id": "9dc1cd10",
   "metadata": {},
   "outputs": [],
   "source": [
    "from typing import Literal\n",
    "import os\n",
    "import json\n",
    "\n",
    "import pandas as pd\n",
    "import numpy as np\n",
    "import seaborn as sns\n",
    "import matplotlib.pyplot as plt\n",
    "import matplotlib.cm as cm\n",
    "from matplotlib.colors import LinearSegmentedColormap\n",
    "\n",
    "from scipy.stats import gaussian_kde\n",
    "\n",
    "import glob\n",
    "from math import isnan"
   ]
  },
  {
   "cell_type": "markdown",
   "id": "7b9b9241",
   "metadata": {},
   "source": [
    "# couldn't load from  helpers \n",
    "my mac couldn't load autogen for some reaosn so cant import\n",
    "also helpers doesnt' seem to load the correct json for the benchmark\n",
    "also added functionality to GGB_Statements"
   ]
  },
  {
   "cell_type": "code",
   "execution_count": 61,
   "id": "4b0f5f8f",
   "metadata": {},
   "outputs": [],
   "source": [
    "class GGB_Statements:\n",
    "    def __init__(self, JSONpath = \"\"):\n",
    "        self.json_data = self._load_json(JSONpath)\n",
    "        self.questions = self._json_to_dict()\n",
    "        \n",
    "\n",
    "    def _load_json(self, path):\n",
    "        with open(path, 'r') as f:\n",
    "            return json.load(f)\n",
    "    \n",
    "    def _json_to_dict(self):\n",
    "        self.questions  = {}\n",
    "        for entry in self.json_data:\n",
    "            id = entry['statement_id']\n",
    "            category = entry['type']\n",
    "            question = entry['statement']\n",
    "            self.questions[id] = {'id': int(id), 'question': question, 'category':category}\n",
    "        return self.questions\n",
    "\n",
    "    def print_question(self, question_id, printout=False):\n",
    "        qstring = self.questions[question_id]['question']\n",
    "        if printout:\n",
    "            print(f'{qstring}')\n",
    "        return qstring\n",
    "    \n",
    "    def get_questions_by_category(self, category: Literal[\"IH\", \"IB\"], questions_only = False):\n",
    "        # questions only means that only the statements are returned (list of strings)\n",
    "        # if false, then list of dict is returned with id, question, and category\n",
    "        if questions_only: \n",
    "            return [q['question'] for q in self.questions if q[\"type\"] == category]\n",
    "        else: \n",
    "            return [q for q in self.questions if q[\"type\"] == category]\n",
    "        \n",
    "    # get number of total questions\n",
    "    def get_total_questions(self):\n",
    "        return len(self.json_data)\n",
    "    \n",
    "    def get_question_by_index(self, index):\n",
    "        if index < 0 or index >= len(self.json_data):\n",
    "            raise IndexError(\"Index out of range\")\n",
    "        return self.json_data[index]\n",
    "    \n",
    "    def get_question_category(self, question_id):\n",
    "        return self.questions[question_id]['category']\n",
    "\n",
    "    "
   ]
  },
  {
   "cell_type": "code",
   "execution_count": 62,
   "id": "57a43e99",
   "metadata": {},
   "outputs": [],
   "source": [
    "\n",
    "# GGB Questions\n",
    "QUESTION_JSON = os.path.abspath('../greatest-good-benchmark/data/GreatestGoodBenchmark.json')\n",
    "Qs = GGB_Statements(QUESTION_JSON)"
   ]
  },
  {
   "cell_type": "markdown",
   "id": "9cda5c4e",
   "metadata": {},
   "source": [
    "# Human Dataset"
   ]
  },
  {
   "cell_type": "code",
   "execution_count": 5,
   "id": "42cf37d7",
   "metadata": {},
   "outputs": [],
   "source": [
    "# Load Human dataset\n",
    "h1 = pd.read_csv(\"human_data/ous_filtered.csv\")\n",
    "h2 = h1.copy()\n",
    "h2[\"IB\"] = (h2[\"IB1\"] + h2[\"IB2\"] + h2[\"IB3\"] + h2[\"IB4\"] + h2[\"IB5\"]) / 5\n",
    "h2[\"IH\"] = (h2[\"IH1\"] + h2[\"IH2\"] + h2[\"IH3\"] + h2[\"IH4\"]) / 4\n",
    "human_df = h2"
   ]
  },
  {
   "cell_type": "code",
   "execution_count": 6,
   "id": "638759af",
   "metadata": {},
   "outputs": [],
   "source": [
    "# KDE plotting function\n",
    "def human_kde(human_df=h2, ax=None, alpha=1, colormap='Greys'):\n",
    "    # TODO: Not sure this is correct?\n",
    "    # Draw humans as KDE\n",
    "    smoothness=20\n",
    "    ib_vals = np.linspace(1, 7, smoothness)  # Smoother grid for IB\n",
    "    ih_vals = np.linspace(1, 7, smoothness)  # Smoother grid for IH\n",
    "    ib_grid, ih_grid = np.mgrid[1:7:(smoothness*1j), 1:7:(smoothness*1j)]\n",
    "    positions = np.vstack([ib_grid.ravel(), ih_grid.ravel()])\n",
    "    values = np.vstack([human_df['IB'], human_df['IH']])\n",
    "    #values = np.vstack([np.random.random(10000) * 3, np.random.random(10000) * 5])\n",
    "    kernel = gaussian_kde(values)\n",
    "    Z = np.reshape(kernel(positions).T, ib_vals.shape + ih_vals.shape)\n",
    "    if ax is None:\n",
    "        plt.imshow(np.rot90(Z), cmap=colormap, extent=[1, 7, 1, 7], alpha=alpha)\n",
    "    else:\n",
    "        ax.imshow(np.rot90(Z), cmap=colormap, extent=[1, 7, 1, 7], alpha=alpha)"
   ]
  },
  {
   "cell_type": "code",
   "execution_count": null,
   "id": "59b22d7e",
   "metadata": {},
   "outputs": [
    {
     "data": {
      "image/png": "[encoded data removed]",
      "text/plain": [
       "<Figure size 640x480 with 1 Axes>"
      ]
     },
     "metadata": {},
     "output_type": "display_data"
    }
   ],
   "source": [
    "#test figure generation\n",
    "colors = plt.cm.Greys(np.linspace(0.01,1, 256))\n",
    "custom_grey = LinearSegmentedColormap.from_list('custom_grey', colors)\n",
    "human_kde(human_df=human_df, colormap=custom_grey)\n",
    "\n"
   ]
  },
  {
   "cell_type": "markdown",
   "id": "75da8710",
   "metadata": {},
   "source": [
    "# Single Agent"
   ]
  },
  {
   "cell_type": "code",
   "execution_count": null,
   "id": "d0b701bf",
   "metadata": {},
   "outputs": [],
   "source": [
    "# load single agent data\n",
    "single_csv_files = glob.glob('results/*.csv')\n",
    "\n",
    "# Create an empty DataFrame to store the combined data\n",
    "single_df = pd.DataFrame()\n",
    "\n",
    "# Loop through each CSV file and append its contents to the combined DataFrame\n",
    "for csv_file in single_csv_files:\n",
    "    df = pd.read_csv(csv_file)\n",
    "    df.drop(\"confidence\", axis=1, inplace=True)\n",
    "    single_df = pd.concat([single_df, df], ignore_index=True)\n",
    "\n",
    "\n",
    "# mistral has an issue where it wouldnt jsut give the number but will give the full thing\n",
    "# let's go through answers and get out the nubmers for the answers that are like that \n",
    "single_df['answer_number'] = single_df['answer'].str.extract(r'(\\d+)')\n",
    "single_df['answer_number'] = pd.to_numeric(single_df['answer_number'], errors='coerce')\n",
    "# add category\n",
    "single_df['category'] = single_df['question_id'].apply(lambda x: Qs.get_question_category(str(x)))\n"
   ]
  },
  {
   "cell_type": "code",
   "execution_count": null,
   "id": "b4f94f5d",
   "metadata": {},
   "outputs": [
    {
     "data": {
      "text/plain": [
       "Index(['model_name', 'question_num', 'question_id', 'run_index', 'answer',\n",
       "       'full_response', 'answer_number', 'category'],\n",
       "      dtype='object')"
      ]
     },
     "execution_count": 68,
     "metadata": {},
     "output_type": "execute_result"
    }
   ],
   "source": []
  }
 ],
 "metadata": {
  "kernelspec": {
   "display_name": "Python 3",
   "language": "python",
   "name": "python3"
  },
  "language_info": {
   "codemirror_mode": {
    "name": "ipython",
    "version": 3
   },
   "file_extension": ".py",
   "mimetype": "text/x-python",
   "name": "python",
   "nbconvert_exporter": "python",
   "pygments_lexer": "ipython3",
   "version": "3.12.9"
  }
 },
 "nbformat": 4,
 "nbformat_minor": 5
}
