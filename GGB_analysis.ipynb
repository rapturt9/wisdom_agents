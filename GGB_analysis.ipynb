{
 "cells": [
  {
   "cell_type": "code",
   "execution_count": null,
   "id": "9dc1cd10",
   "metadata": {},
   "outputs": [],
   "source": [
    "from helpers import GGB_Statements, extract_answer_from_response\n",
    "from typing import Literal\n",
    "import os\n"
   ]
  }
 ],
 "metadata": {
  "language_info": {
   "name": "python"
  }
 },
 "nbformat": 4,
 "nbformat_minor": 5
}
