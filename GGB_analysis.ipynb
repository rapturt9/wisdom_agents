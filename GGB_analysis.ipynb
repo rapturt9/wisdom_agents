{
 "cells": [
  {
   "cell_type": "code",
   "execution_count": 11,
   "id": "9dc1cd10",
   "metadata": {},
   "outputs": [],
   "source": [
    "from typing import Literal\n",
    "import os\n",
    "import json\n",
    "\n",
    "import pandas as pd\n",
    "import numpy as np\n",
    "import seaborn as sns\n",
    "import matplotlib.pyplot as plt\n",
    "import matplotlib.cm as cm\n",
    "from matplotlib.colors import LinearSegmentedColormap\n",
    "\n",
    "from scipy.stats import gaussian_kde\n",
    "\n",
    "import glob\n",
    "from math import isnan"
   ]
  },
  {
   "cell_type": "markdown",
   "id": "7b9b9241",
   "metadata": {},
   "source": [
    "# couldn't load from  helpers \n",
    "my mac couldn't load autogen for some reaosn so cant import\n",
    "also helpers doesnt' seem to load the correct json for the benchmark\n",
    "also added functionality to GGB_Statements"
   ]
  },
  {
   "cell_type": "code",
   "execution_count": 12,
   "id": "4b0f5f8f",
   "metadata": {},
   "outputs": [],
   "source": [
    "class GGB_Statements:\n",
    "    def __init__(self, JSONpath = \"\"):\n",
    "        self.json_data = self._load_json(JSONpath)\n",
    "        self.questions = self._json_to_dict()\n",
    "        \n",
    "\n",
    "    def _load_json(self, path):\n",
    "        with open(path, 'r') as f:\n",
    "            return json.load(f)\n",
    "    \n",
    "    def _json_to_dict(self):\n",
    "        self.questions  = {}\n",
    "        for entry in self.json_data:\n",
    "            id = entry['statement_id']\n",
    "            category = entry['type']\n",
    "            question = entry['statement']\n",
    "            self.questions[id] = {'id': int(id), 'question': question, 'category':category}\n",
    "        return self.questions\n",
    "\n",
    "    def print_question(self, question_id, printout=False):\n",
    "        qstring = self.questions[question_id]['question']\n",
    "        if printout:\n",
    "            print(f'{qstring}')\n",
    "        return qstring\n",
    "    \n",
    "    def get_questions_by_category(self, category: Literal[\"IH\", \"IB\"], questions_only = False):\n",
    "        # questions only means that only the statements are returned (list of strings)\n",
    "        # if false, then list of dict is returned with id, question, and category\n",
    "        if questions_only: \n",
    "            return [q['question'] for q in self.questions if q[\"type\"] == category]\n",
    "        else: \n",
    "            return [q for q in self.questions if q[\"type\"] == category]\n",
    "        \n",
    "    # get number of total questions\n",
    "    def get_total_questions(self):\n",
    "        return len(self.json_data)\n",
    "    \n",
    "    def get_question_by_index(self, index):\n",
    "        if index < 0 or index >= len(self.json_data):\n",
    "            raise IndexError(\"Index out of range\")\n",
    "        return self.json_data[index]\n",
    "    \n",
    "    def get_question_category(self, question_id):\n",
    "        return self.questions[question_id]['category']\n",
    "\n",
    "    "
   ]
  },
  {
   "cell_type": "code",
   "execution_count": 13,
   "id": "57a43e99",
   "metadata": {},
   "outputs": [],
   "source": [
    "\n",
    "# GGB Questions\n",
    "QUESTION_JSON = os.path.abspath('../greatest-good-benchmark/data/GreatestGoodBenchmark.json')\n",
    "Qs = GGB_Statements(QUESTION_JSON)"
   ]
  },
  {
   "cell_type": "markdown",
   "id": "9cda5c4e",
   "metadata": {},
   "source": [
    "# Human Dataset"
   ]
  },
  {
   "cell_type": "code",
   "execution_count": 14,
   "id": "42cf37d7",
   "metadata": {},
   "outputs": [],
   "source": [
    "# Load Human dataset\n",
    "h1 = pd.read_csv(\"human_data/ous_filtered.csv\")\n",
    "h2 = h1.copy()\n",
    "h2[\"IB\"] = (h2[\"IB1\"] + h2[\"IB2\"] + h2[\"IB3\"] + h2[\"IB4\"] + h2[\"IB5\"]) / 5\n",
    "h2[\"IH\"] = (h2[\"IH1\"] + h2[\"IH2\"] + h2[\"IH3\"] + h2[\"IH4\"]) / 4\n",
    "human_df = h2"
   ]
  },
  {
   "cell_type": "code",
   "execution_count": 15,
   "id": "638759af",
   "metadata": {},
   "outputs": [],
   "source": [
    "# KDE plotting function\n",
    "# def human_kde(human_df=h2, ax=None, alpha=1, colormap='Greys'):\n",
    "#     # TODO: Not sure this is correct?\n",
    "#     # Draw humans as KDE\n",
    "#     smoothness=20\n",
    "#     ib_vals = np.linspace(1, 7, smoothness)  # Smoother grid for IB\n",
    "#     ih_vals = np.linspace(1, 7, smoothness)  # Smoother grid for IH\n",
    "#     ib_grid, ih_grid = np.mgrid[1:7:(smoothness*1j), 1:7:(smoothness*1j)]\n",
    "#     positions = np.vstack([ib_grid.ravel(), ih_grid.ravel()])\n",
    "#     values = np.vstack([human_df['IB'], human_df['IH']])\n",
    "#     #values = np.vstack([np.random.random(10000) * 3, np.random.random(10000) * 5])\n",
    "#     kernel = gaussian_kde(values)\n",
    "#     Z = np.reshape(kernel(positions).T, ib_vals.shape + ih_vals.shape)\n",
    "#     if ax is None:\n",
    "#         plt.imshow(np.rot90(Z), cmap=colormap, extent=[1, 7, 1, 7], alpha=alpha)\n",
    "#     else:\n",
    "#         ax.imshow(np.rot90(Z), cmap=colormap, extent=[1, 7, 1, 7], alpha=alpha)\n",
    "\n",
    "# Switching IH and IB axes so that it is consistent with the paper\n",
    "def human_kde(human_df=h2, ax=None, alpha=1, colormap='Greys'):\n",
    "    # Draw humans as KDE with IH on x-axis and IB on y-axis\n",
    "    smoothness = 20\n",
    "    ih_vals = np.linspace(1, 7, smoothness)  # Smoother grid for IH (x-axis)\n",
    "    ib_vals = np.linspace(1, 7, smoothness)  # Smoother grid for IB (y-axis)\n",
    "    ih_grid, ib_grid = np.mgrid[1:7:(smoothness*1j), 1:7:(smoothness*1j)]  # Switch order here\n",
    "    positions = np.vstack([ih_grid.ravel(), ib_grid.ravel()])  # Switch order here\n",
    "    values = np.vstack([human_df['IH'], human_df['IB']])  # Switch order here\n",
    "    \n",
    "    kernel = gaussian_kde(values)\n",
    "    Z = np.reshape(kernel(positions).T, ih_vals.shape + ib_vals.shape)  # Notice ih first, then ib\n",
    "    \n",
    "    if ax is None:\n",
    "        # For imshow, extent is [left, right, bottom, top]\n",
    "        plt.imshow(np.rot90(Z), cmap=colormap, extent=[1, 7, 1, 7], alpha=alpha)\n",
    "    else:\n",
    "        ax.imshow(np.rot90(Z), cmap=colormap, extent=[1, 7, 1, 7], alpha=alpha)\n"
   ]
  },
  {
   "cell_type": "code",
   "execution_count": 16,
   "id": "59b22d7e",
   "metadata": {},
   "outputs": [
    {
     "data": {
      "image/png": "[encoded data removed]",
      "text/plain": [
       "<Figure size 640x480 with 1 Axes>"
      ]
     },
     "metadata": {},
     "output_type": "display_data"
    }
   ],
   "source": [
    "#test figure generation\n",
    "colors = plt.cm.Greys(np.linspace(0.01,1, 256))\n",
    "custom_grey = LinearSegmentedColormap.from_list('custom_grey', colors)\n",
    "human_kde(human_df=human_df, colormap=custom_grey)\n",
    "\n"
   ]
  },
  {
   "cell_type": "markdown",
   "id": "75da8710",
   "metadata": {},
   "source": [
    "# Single Agent"
   ]
  },
  {
   "cell_type": "markdown",
   "id": "5525fb5b",
   "metadata": {},
   "source": [
    "## Single Agent Data loading"
   ]
  },
  {
   "cell_type": "code",
   "execution_count": 41,
   "id": "d0b701bf",
   "metadata": {},
   "outputs": [],
   "source": [
    "# load single agent data\n",
    "single_csv_files = glob.glob('results/*.csv')\n",
    "\n",
    "# Create an empty DataFrame to store the combined data\n",
    "single_df = pd.DataFrame()\n",
    "\n",
    "# Loop through each CSV file and append its contents to the combined DataFrame\n",
    "for csv_file in single_csv_files:\n",
    "    df = pd.read_csv(csv_file)\n",
    "    df.drop(\"confidence\", axis=1, inplace=True)\n",
    "    single_df = pd.concat([single_df, df], ignore_index=True)\n",
    "\n",
    "\n",
    "# mistral has an issue where it wouldnt jsut give the number but will give the full thing\n",
    "# let's go through answers and get out the nubmers for the answers that are like that\n",
    "# also we'll keep current answers (strings) as answer_str and put the numbers in answer\n",
    "single_df['answer_str'] = single_df['answer'].copy()\n",
    "single_df['answer'] = single_df['answer_str'].str.extract(r'(\\d+)')\n",
    "single_df['answer'] = pd.to_numeric(single_df['answer'], errors='coerce')\n",
    "# add category to dataframe\n",
    "single_df['category'] = single_df['question_id'].apply(lambda x: Qs.get_question_category(str(x)))\n"
   ]
  },
  {
   "cell_type": "code",
   "execution_count": 42,
   "id": "b4f94f5d",
   "metadata": {},
   "outputs": [],
   "source": [
    "# Create the grouped calculations with nanmean and sem handling NaNs\n",
    "grouped_by_question = single_df.groupby(['model_name', 'question_num', 'category'])['answer'].agg([\n",
    "    ('mean', lambda x: np.nanmean(x)),\n",
    "    ('std',  lambda x: np.nanstd(x, ddof=1)),\n",
    "    ('sem', lambda x: np.nanstd(x, ddof=1) / np.sqrt(np.sum(~np.isnan(x))))\n",
    "]).reset_index()\n",
    "\n",
    "# (2) For each model and category, get mean and sem across all runs and question_nums\n",
    "grouped_by_category = single_df.groupby(['model_name', 'category'])['answer'].agg([\n",
    "    ('mean', lambda x: np.nanmean(x)),\n",
    "    ('std',  lambda x: np.nanstd(x, ddof=1)),\n",
    "    ('sem', lambda x: np.nanstd(x, ddof=1) / np.sqrt(np.sum(~np.isnan(x))))\n",
    "]).reset_index()"
   ]
  },
  {
   "cell_type": "markdown",
   "id": "a6b5d7f5",
   "metadata": {},
   "source": [
    "## Single Agent Plotting"
   ]
  },
  {
   "cell_type": "markdown",
   "id": "58374b1d",
   "metadata": {},
   "source": [
    "### Plots for single agents by question"
   ]
  },
  {
   "cell_type": "code",
   "execution_count": 117,
   "id": "8189626d",
   "metadata": {},
   "outputs": [
    {
     "ename": "KeyboardInterrupt",
     "evalue": "",
     "output_type": "error",
     "traceback": [
      "\u001b[31m---------------------------------------------------------------------------\u001b[39m",
      "\u001b[31mKeyboardInterrupt\u001b[39m                         Traceback (most recent call last)",
      "\u001b[36mCell\u001b[39m\u001b[36m \u001b[39m\u001b[32mIn[117]\u001b[39m\u001b[32m, line 92\u001b[39m\n\u001b[32m     90\u001b[39m \u001b[38;5;66;03m# Adjust layout to make room for rotated labels\u001b[39;00m\n\u001b[32m     91\u001b[39m plt.tight_layout()\n\u001b[32m---> \u001b[39m\u001b[32m92\u001b[39m \u001b[43mplt\u001b[49m\u001b[43m.\u001b[49m\u001b[43mshow\u001b[49m\u001b[43m(\u001b[49m\u001b[43m)\u001b[49m\n",
      "\u001b[36mFile \u001b[39m\u001b[32m~/Documents/GitHub/wisdom_agents/.conda/lib/python3.12/site-packages/matplotlib/pyplot.py:614\u001b[39m, in \u001b[36mshow\u001b[39m\u001b[34m(*args, **kwargs)\u001b[39m\n\u001b[32m    570\u001b[39m \u001b[38;5;250m\u001b[39m\u001b[33;03m\"\"\"\u001b[39;00m\n\u001b[32m    571\u001b[39m \u001b[33;03mDisplay all open figures.\u001b[39;00m\n\u001b[32m    572\u001b[39m \n\u001b[32m   (...)\u001b[39m\u001b[32m    611\u001b[39m \u001b[33;03mexplicitly there.\u001b[39;00m\n\u001b[32m    612\u001b[39m \u001b[33;03m\"\"\"\u001b[39;00m\n\u001b[32m    613\u001b[39m _warn_if_gui_out_of_main_thread()\n\u001b[32m--> \u001b[39m\u001b[32m614\u001b[39m \u001b[38;5;28;01mreturn\u001b[39;00m \u001b[43m_get_backend_mod\u001b[49m\u001b[43m(\u001b[49m\u001b[43m)\u001b[49m\u001b[43m.\u001b[49m\u001b[43mshow\u001b[49m\u001b[43m(\u001b[49m\u001b[43m*\u001b[49m\u001b[43margs\u001b[49m\u001b[43m,\u001b[49m\u001b[43m \u001b[49m\u001b[43m*\u001b[49m\u001b[43m*\u001b[49m\u001b[43mkwargs\u001b[49m\u001b[43m)\u001b[49m\n",
      "\u001b[36mFile \u001b[39m\u001b[32m~/Documents/GitHub/wisdom_agents/.conda/lib/python3.12/site-packages/matplotlib_inline/backend_inline.py:90\u001b[39m, in \u001b[36mshow\u001b[39m\u001b[34m(close, block)\u001b[39m\n\u001b[32m     88\u001b[39m \u001b[38;5;28;01mtry\u001b[39;00m:\n\u001b[32m     89\u001b[39m     \u001b[38;5;28;01mfor\u001b[39;00m figure_manager \u001b[38;5;129;01min\u001b[39;00m Gcf.get_all_fig_managers():\n\u001b[32m---> \u001b[39m\u001b[32m90\u001b[39m         \u001b[43mdisplay\u001b[49m\u001b[43m(\u001b[49m\n\u001b[32m     91\u001b[39m \u001b[43m            \u001b[49m\u001b[43mfigure_manager\u001b[49m\u001b[43m.\u001b[49m\u001b[43mcanvas\u001b[49m\u001b[43m.\u001b[49m\u001b[43mfigure\u001b[49m\u001b[43m,\u001b[49m\n\u001b[32m     92\u001b[39m \u001b[43m            \u001b[49m\u001b[43mmetadata\u001b[49m\u001b[43m=\u001b[49m\u001b[43m_fetch_figure_metadata\u001b[49m\u001b[43m(\u001b[49m\u001b[43mfigure_manager\u001b[49m\u001b[43m.\u001b[49m\u001b[43mcanvas\u001b[49m\u001b[43m.\u001b[49m\u001b[43mfigure\u001b[49m\u001b[43m)\u001b[49m\n\u001b[32m     93\u001b[39m \u001b[43m        \u001b[49m\u001b[43m)\u001b[49m\n\u001b[32m     94\u001b[39m \u001b[38;5;28;01mfinally\u001b[39;00m:\n\u001b[32m     95\u001b[39m     show._to_draw = []\n",
      "\u001b[36mFile \u001b[39m\u001b[32m~/Documents/GitHub/wisdom_agents/.conda/lib/python3.12/site-packages/IPython/core/display_functions.py:278\u001b[39m, in \u001b[36mdisplay\u001b[39m\u001b[34m(include, exclude, metadata, transient, display_id, raw, clear, *objs, **kwargs)\u001b[39m\n\u001b[32m    276\u001b[39m     publish_display_data(data=obj, metadata=metadata, **kwargs)\n\u001b[32m    277\u001b[39m \u001b[38;5;28;01melse\u001b[39;00m:\n\u001b[32m--> \u001b[39m\u001b[32m278\u001b[39m     format_dict, md_dict = \u001b[38;5;28;43mformat\u001b[39;49m\u001b[43m(\u001b[49m\u001b[43mobj\u001b[49m\u001b[43m,\u001b[49m\u001b[43m \u001b[49m\u001b[43minclude\u001b[49m\u001b[43m=\u001b[49m\u001b[43minclude\u001b[49m\u001b[43m,\u001b[49m\u001b[43m \u001b[49m\u001b[43mexclude\u001b[49m\u001b[43m=\u001b[49m\u001b[43mexclude\u001b[49m\u001b[43m)\u001b[49m\n\u001b[32m    279\u001b[39m     \u001b[38;5;28;01mif\u001b[39;00m \u001b[38;5;129;01mnot\u001b[39;00m format_dict:\n\u001b[32m    280\u001b[39m         \u001b[38;5;66;03m# nothing to display (e.g. _ipython_display_ took over)\u001b[39;00m\n\u001b[32m    281\u001b[39m         \u001b[38;5;28;01mcontinue\u001b[39;00m\n",
      "\u001b[36mFile \u001b[39m\u001b[32m~/Documents/GitHub/wisdom_agents/.conda/lib/python3.12/site-packages/IPython/core/formatters.py:238\u001b[39m, in \u001b[36mDisplayFormatter.format\u001b[39m\u001b[34m(self, obj, include, exclude)\u001b[39m\n\u001b[32m    236\u001b[39m md = \u001b[38;5;28;01mNone\u001b[39;00m\n\u001b[32m    237\u001b[39m \u001b[38;5;28;01mtry\u001b[39;00m:\n\u001b[32m--> \u001b[39m\u001b[32m238\u001b[39m     data = \u001b[43mformatter\u001b[49m\u001b[43m(\u001b[49m\u001b[43mobj\u001b[49m\u001b[43m)\u001b[49m\n\u001b[32m    239\u001b[39m \u001b[38;5;28;01mexcept\u001b[39;00m:\n\u001b[32m    240\u001b[39m     \u001b[38;5;66;03m# FIXME: log the exception\u001b[39;00m\n\u001b[32m    241\u001b[39m     \u001b[38;5;28;01mraise\u001b[39;00m\n",
      "\u001b[36mFile \u001b[39m\u001b[32m~/Documents/GitHub/wisdom_agents/.conda/lib/python3.12/site-packages/decorator.py:235\u001b[39m, in \u001b[36mdecorate.<locals>.fun\u001b[39m\u001b[34m(*args, **kw)\u001b[39m\n\u001b[32m    233\u001b[39m \u001b[38;5;28;01mif\u001b[39;00m \u001b[38;5;129;01mnot\u001b[39;00m kwsyntax:\n\u001b[32m    234\u001b[39m     args, kw = fix(args, kw, sig)\n\u001b[32m--> \u001b[39m\u001b[32m235\u001b[39m \u001b[38;5;28;01mreturn\u001b[39;00m \u001b[43mcaller\u001b[49m\u001b[43m(\u001b[49m\u001b[43mfunc\u001b[49m\u001b[43m,\u001b[49m\u001b[43m \u001b[49m\u001b[43m*\u001b[49m\u001b[43m(\u001b[49m\u001b[43mextras\u001b[49m\u001b[43m \u001b[49m\u001b[43m+\u001b[49m\u001b[43m \u001b[49m\u001b[43margs\u001b[49m\u001b[43m)\u001b[49m\u001b[43m,\u001b[49m\u001b[43m \u001b[49m\u001b[43m*\u001b[49m\u001b[43m*\u001b[49m\u001b[43mkw\u001b[49m\u001b[43m)\u001b[49m\n",
      "\u001b[36mFile \u001b[39m\u001b[32m~/Documents/GitHub/wisdom_agents/.conda/lib/python3.12/site-packages/IPython/core/formatters.py:282\u001b[39m, in \u001b[36mcatch_format_error\u001b[39m\u001b[34m(method, self, *args, **kwargs)\u001b[39m\n\u001b[32m    280\u001b[39m \u001b[38;5;250m\u001b[39m\u001b[33;03m\"\"\"show traceback on failed format call\"\"\"\u001b[39;00m\n\u001b[32m    281\u001b[39m \u001b[38;5;28;01mtry\u001b[39;00m:\n\u001b[32m--> \u001b[39m\u001b[32m282\u001b[39m     r = \u001b[43mmethod\u001b[49m\u001b[43m(\u001b[49m\u001b[38;5;28;43mself\u001b[39;49m\u001b[43m,\u001b[49m\u001b[43m \u001b[49m\u001b[43m*\u001b[49m\u001b[43margs\u001b[49m\u001b[43m,\u001b[49m\u001b[43m \u001b[49m\u001b[43m*\u001b[49m\u001b[43m*\u001b[49m\u001b[43mkwargs\u001b[49m\u001b[43m)\u001b[49m\n\u001b[32m    283\u001b[39m \u001b[38;5;28;01mexcept\u001b[39;00m \u001b[38;5;167;01mNotImplementedError\u001b[39;00m:\n\u001b[32m    284\u001b[39m     \u001b[38;5;66;03m# don't warn on NotImplementedErrors\u001b[39;00m\n\u001b[32m    285\u001b[39m     \u001b[38;5;28;01mreturn\u001b[39;00m \u001b[38;5;28mself\u001b[39m._check_return(\u001b[38;5;28;01mNone\u001b[39;00m, args[\u001b[32m0\u001b[39m])\n",
      "\u001b[36mFile \u001b[39m\u001b[32m~/Documents/GitHub/wisdom_agents/.conda/lib/python3.12/site-packages/IPython/core/formatters.py:402\u001b[39m, in \u001b[36mBaseFormatter.__call__\u001b[39m\u001b[34m(self, obj)\u001b[39m\n\u001b[32m    400\u001b[39m     \u001b[38;5;28;01mpass\u001b[39;00m\n\u001b[32m    401\u001b[39m \u001b[38;5;28;01melse\u001b[39;00m:\n\u001b[32m--> \u001b[39m\u001b[32m402\u001b[39m     \u001b[38;5;28;01mreturn\u001b[39;00m \u001b[43mprinter\u001b[49m\u001b[43m(\u001b[49m\u001b[43mobj\u001b[49m\u001b[43m)\u001b[49m\n\u001b[32m    403\u001b[39m \u001b[38;5;66;03m# Finally look for special method names\u001b[39;00m\n\u001b[32m    404\u001b[39m method = get_real_method(obj, \u001b[38;5;28mself\u001b[39m.print_method)\n",
      "\u001b[36mFile \u001b[39m\u001b[32m~/Documents/GitHub/wisdom_agents/.conda/lib/python3.12/site-packages/IPython/core/pylabtools.py:170\u001b[39m, in \u001b[36mprint_figure\u001b[39m\u001b[34m(fig, fmt, bbox_inches, base64, **kwargs)\u001b[39m\n\u001b[32m    167\u001b[39m     \u001b[38;5;28;01mfrom\u001b[39;00m\u001b[38;5;250m \u001b[39m\u001b[34;01mmatplotlib\u001b[39;00m\u001b[34;01m.\u001b[39;00m\u001b[34;01mbackend_bases\u001b[39;00m\u001b[38;5;250m \u001b[39m\u001b[38;5;28;01mimport\u001b[39;00m FigureCanvasBase\n\u001b[32m    168\u001b[39m     FigureCanvasBase(fig)\n\u001b[32m--> \u001b[39m\u001b[32m170\u001b[39m \u001b[43mfig\u001b[49m\u001b[43m.\u001b[49m\u001b[43mcanvas\u001b[49m\u001b[43m.\u001b[49m\u001b[43mprint_figure\u001b[49m\u001b[43m(\u001b[49m\u001b[43mbytes_io\u001b[49m\u001b[43m,\u001b[49m\u001b[43m \u001b[49m\u001b[43m*\u001b[49m\u001b[43m*\u001b[49m\u001b[43mkw\u001b[49m\u001b[43m)\u001b[49m\n\u001b[32m    171\u001b[39m data = bytes_io.getvalue()\n\u001b[32m    172\u001b[39m \u001b[38;5;28;01mif\u001b[39;00m fmt == \u001b[33m'\u001b[39m\u001b[33msvg\u001b[39m\u001b[33m'\u001b[39m:\n",
      "\u001b[36mFile \u001b[39m\u001b[32m~/Documents/GitHub/wisdom_agents/.conda/lib/python3.12/site-packages/matplotlib/backend_bases.py:2158\u001b[39m, in \u001b[36mFigureCanvasBase.print_figure\u001b[39m\u001b[34m(self, filename, dpi, facecolor, edgecolor, orientation, format, bbox_inches, pad_inches, bbox_extra_artists, backend, **kwargs)\u001b[39m\n\u001b[32m   2156\u001b[39m \u001b[38;5;28;01mif\u001b[39;00m bbox_inches:\n\u001b[32m   2157\u001b[39m     \u001b[38;5;28;01mif\u001b[39;00m bbox_inches == \u001b[33m\"\u001b[39m\u001b[33mtight\u001b[39m\u001b[33m\"\u001b[39m:\n\u001b[32m-> \u001b[39m\u001b[32m2158\u001b[39m         bbox_inches = \u001b[38;5;28;43mself\u001b[39;49m\u001b[43m.\u001b[49m\u001b[43mfigure\u001b[49m\u001b[43m.\u001b[49m\u001b[43mget_tightbbox\u001b[49m\u001b[43m(\u001b[49m\n\u001b[32m   2159\u001b[39m \u001b[43m            \u001b[49m\u001b[43mrenderer\u001b[49m\u001b[43m,\u001b[49m\u001b[43m \u001b[49m\u001b[43mbbox_extra_artists\u001b[49m\u001b[43m=\u001b[49m\u001b[43mbbox_extra_artists\u001b[49m\u001b[43m)\u001b[49m\n\u001b[32m   2160\u001b[39m         \u001b[38;5;28;01mif\u001b[39;00m (\u001b[38;5;28misinstance\u001b[39m(layout_engine, ConstrainedLayoutEngine) \u001b[38;5;129;01mand\u001b[39;00m\n\u001b[32m   2161\u001b[39m                 pad_inches == \u001b[33m\"\u001b[39m\u001b[33mlayout\u001b[39m\u001b[33m\"\u001b[39m):\n\u001b[32m   2162\u001b[39m             h_pad = layout_engine.get()[\u001b[33m\"\u001b[39m\u001b[33mh_pad\u001b[39m\u001b[33m\"\u001b[39m]\n",
      "\u001b[36mFile \u001b[39m\u001b[32m~/Documents/GitHub/wisdom_agents/.conda/lib/python3.12/site-packages/matplotlib/figure.py:1848\u001b[39m, in \u001b[36mFigureBase.get_tightbbox\u001b[39m\u001b[34m(self, renderer, bbox_extra_artists)\u001b[39m\n\u001b[32m   1844\u001b[39m \u001b[38;5;28;01mif\u001b[39;00m ax.get_visible():\n\u001b[32m   1845\u001b[39m     \u001b[38;5;66;03m# some Axes don't take the bbox_extra_artists kwarg so we\u001b[39;00m\n\u001b[32m   1846\u001b[39m     \u001b[38;5;66;03m# need this conditional....\u001b[39;00m\n\u001b[32m   1847\u001b[39m     \u001b[38;5;28;01mtry\u001b[39;00m:\n\u001b[32m-> \u001b[39m\u001b[32m1848\u001b[39m         bbox = \u001b[43max\u001b[49m\u001b[43m.\u001b[49m\u001b[43mget_tightbbox\u001b[49m\u001b[43m(\u001b[49m\n\u001b[32m   1849\u001b[39m \u001b[43m            \u001b[49m\u001b[43mrenderer\u001b[49m\u001b[43m,\u001b[49m\u001b[43m \u001b[49m\u001b[43mbbox_extra_artists\u001b[49m\u001b[43m=\u001b[49m\u001b[43mbbox_extra_artists\u001b[49m\u001b[43m)\u001b[49m\n\u001b[32m   1850\u001b[39m     \u001b[38;5;28;01mexcept\u001b[39;00m \u001b[38;5;167;01mTypeError\u001b[39;00m:\n\u001b[32m   1851\u001b[39m         bbox = ax.get_tightbbox(renderer)\n",
      "\u001b[36mFile \u001b[39m\u001b[32m~/Documents/GitHub/wisdom_agents/.conda/lib/python3.12/site-packages/matplotlib/axes/_base.py:4542\u001b[39m, in \u001b[36m_AxesBase.get_tightbbox\u001b[39m\u001b[34m(self, renderer, call_axes_locator, bbox_extra_artists, for_layout_only)\u001b[39m\n\u001b[32m   4539\u001b[39m     bbox_artists = \u001b[38;5;28mself\u001b[39m.get_default_bbox_extra_artists()\n\u001b[32m   4541\u001b[39m \u001b[38;5;28;01mfor\u001b[39;00m a \u001b[38;5;129;01min\u001b[39;00m bbox_artists:\n\u001b[32m-> \u001b[39m\u001b[32m4542\u001b[39m     bbox = \u001b[43ma\u001b[49m\u001b[43m.\u001b[49m\u001b[43mget_tightbbox\u001b[49m\u001b[43m(\u001b[49m\u001b[43mrenderer\u001b[49m\u001b[43m)\u001b[49m\n\u001b[32m   4543\u001b[39m     \u001b[38;5;28;01mif\u001b[39;00m (bbox \u001b[38;5;129;01mis\u001b[39;00m \u001b[38;5;129;01mnot\u001b[39;00m \u001b[38;5;28;01mNone\u001b[39;00m\n\u001b[32m   4544\u001b[39m             \u001b[38;5;129;01mand\u001b[39;00m \u001b[32m0\u001b[39m < bbox.width < np.inf\n\u001b[32m   4545\u001b[39m             \u001b[38;5;129;01mand\u001b[39;00m \u001b[32m0\u001b[39m < bbox.height < np.inf):\n\u001b[32m   4546\u001b[39m         bb.append(bbox)\n",
      "\u001b[36mFile \u001b[39m\u001b[32m~/Documents/GitHub/wisdom_agents/.conda/lib/python3.12/site-packages/matplotlib/legend.py:1059\u001b[39m, in \u001b[36mLegend.get_tightbbox\u001b[39m\u001b[34m(self, renderer)\u001b[39m\n\u001b[32m   1057\u001b[39m \u001b[38;5;28;01mdef\u001b[39;00m\u001b[38;5;250m \u001b[39m\u001b[34mget_tightbbox\u001b[39m(\u001b[38;5;28mself\u001b[39m, renderer=\u001b[38;5;28;01mNone\u001b[39;00m):\n\u001b[32m   1058\u001b[39m     \u001b[38;5;66;03m# docstring inherited\u001b[39;00m\n\u001b[32m-> \u001b[39m\u001b[32m1059\u001b[39m     \u001b[38;5;28;01mreturn\u001b[39;00m \u001b[38;5;28;43mself\u001b[39;49m\u001b[43m.\u001b[49m\u001b[43m_legend_box\u001b[49m\u001b[43m.\u001b[49m\u001b[43mget_window_extent\u001b[49m\u001b[43m(\u001b[49m\u001b[43mrenderer\u001b[49m\u001b[43m)\u001b[49m\n",
      "\u001b[36mFile \u001b[39m\u001b[32m~/Documents/GitHub/wisdom_agents/.conda/lib/python3.12/site-packages/matplotlib/offsetbox.py:369\u001b[39m, in \u001b[36mOffsetBox.get_window_extent\u001b[39m\u001b[34m(self, renderer)\u001b[39m\n\u001b[32m    367\u001b[39m bbox = \u001b[38;5;28mself\u001b[39m.get_bbox(renderer)\n\u001b[32m    368\u001b[39m \u001b[38;5;28;01mtry\u001b[39;00m:  \u001b[38;5;66;03m# Some subclasses redefine get_offset to take no args.\u001b[39;00m\n\u001b[32m--> \u001b[39m\u001b[32m369\u001b[39m     px, py = \u001b[38;5;28;43mself\u001b[39;49m\u001b[43m.\u001b[49m\u001b[43mget_offset\u001b[49m\u001b[43m(\u001b[49m\u001b[43mbbox\u001b[49m\u001b[43m,\u001b[49m\u001b[43m \u001b[49m\u001b[43mrenderer\u001b[49m\u001b[43m)\u001b[49m\n\u001b[32m    370\u001b[39m \u001b[38;5;28;01mexcept\u001b[39;00m \u001b[38;5;167;01mTypeError\u001b[39;00m:\n\u001b[32m    371\u001b[39m     px, py = \u001b[38;5;28mself\u001b[39m.get_offset()\n",
      "\u001b[36mFile \u001b[39m\u001b[32m~/Documents/GitHub/wisdom_agents/.conda/lib/python3.12/site-packages/matplotlib/offsetbox.py:60\u001b[39m, in \u001b[36m_compat_get_offset.<locals>.get_offset\u001b[39m\u001b[34m(self, *args, **kwargs)\u001b[39m\n\u001b[32m     56\u001b[39m params = _api.select_matching_signature(sigs, \u001b[38;5;28mself\u001b[39m, *args, **kwargs)\n\u001b[32m     57\u001b[39m bbox = (params[\u001b[33m\"\u001b[39m\u001b[33mbbox\u001b[39m\u001b[33m\"\u001b[39m] \u001b[38;5;28;01mif\u001b[39;00m \u001b[33m\"\u001b[39m\u001b[33mbbox\u001b[39m\u001b[33m\"\u001b[39m \u001b[38;5;129;01min\u001b[39;00m params \u001b[38;5;28;01melse\u001b[39;00m\n\u001b[32m     58\u001b[39m         Bbox.from_bounds(-params[\u001b[33m\"\u001b[39m\u001b[33mxdescent\u001b[39m\u001b[33m\"\u001b[39m], -params[\u001b[33m\"\u001b[39m\u001b[33mydescent\u001b[39m\u001b[33m\"\u001b[39m],\n\u001b[32m     59\u001b[39m                          params[\u001b[33m\"\u001b[39m\u001b[33mwidth\u001b[39m\u001b[33m\"\u001b[39m], params[\u001b[33m\"\u001b[39m\u001b[33mheight\u001b[39m\u001b[33m\"\u001b[39m]))\n\u001b[32m---> \u001b[39m\u001b[32m60\u001b[39m \u001b[38;5;28;01mreturn\u001b[39;00m \u001b[43mmeth\u001b[49m\u001b[43m(\u001b[49m\u001b[43mparams\u001b[49m\u001b[43m[\u001b[49m\u001b[33;43m\"\u001b[39;49m\u001b[33;43mself\u001b[39;49m\u001b[33;43m\"\u001b[39;49m\u001b[43m]\u001b[49m\u001b[43m,\u001b[49m\u001b[43m \u001b[49m\u001b[43mbbox\u001b[49m\u001b[43m,\u001b[49m\u001b[43m \u001b[49m\u001b[43mparams\u001b[49m\u001b[43m[\u001b[49m\u001b[33;43m\"\u001b[39;49m\u001b[33;43mrenderer\u001b[39;49m\u001b[33;43m\"\u001b[39;49m\u001b[43m]\u001b[49m\u001b[43m)\u001b[49m\n",
      "\u001b[36mFile \u001b[39m\u001b[32m~/Documents/GitHub/wisdom_agents/.conda/lib/python3.12/site-packages/matplotlib/offsetbox.py:306\u001b[39m, in \u001b[36mOffsetBox.get_offset\u001b[39m\u001b[34m(self, bbox, renderer)\u001b[39m\n\u001b[32m    291\u001b[39m \u001b[38;5;129m@_compat_get_offset\u001b[39m\n\u001b[32m    292\u001b[39m \u001b[38;5;28;01mdef\u001b[39;00m\u001b[38;5;250m \u001b[39m\u001b[34mget_offset\u001b[39m(\u001b[38;5;28mself\u001b[39m, bbox, renderer):\n\u001b[32m    293\u001b[39m \u001b[38;5;250m    \u001b[39m\u001b[33;03m\"\"\"\u001b[39;00m\n\u001b[32m    294\u001b[39m \u001b[33;03m    Return the offset as a tuple (x, y).\u001b[39;00m\n\u001b[32m    295\u001b[39m \n\u001b[32m   (...)\u001b[39m\u001b[32m    303\u001b[39m \u001b[33;03m    renderer : `.RendererBase` subclass\u001b[39;00m\n\u001b[32m    304\u001b[39m \u001b[33;03m    \"\"\"\u001b[39;00m\n\u001b[32m    305\u001b[39m     \u001b[38;5;28;01mreturn\u001b[39;00m (\n\u001b[32m--> \u001b[39m\u001b[32m306\u001b[39m         \u001b[38;5;28;43mself\u001b[39;49m\u001b[43m.\u001b[49m\u001b[43m_offset\u001b[49m\u001b[43m(\u001b[49m\u001b[43mbbox\u001b[49m\u001b[43m.\u001b[49m\u001b[43mwidth\u001b[49m\u001b[43m,\u001b[49m\u001b[43m \u001b[49m\u001b[43mbbox\u001b[49m\u001b[43m.\u001b[49m\u001b[43mheight\u001b[49m\u001b[43m,\u001b[49m\u001b[43m \u001b[49m\u001b[43m-\u001b[49m\u001b[43mbbox\u001b[49m\u001b[43m.\u001b[49m\u001b[43mx0\u001b[49m\u001b[43m,\u001b[49m\u001b[43m \u001b[49m\u001b[43m-\u001b[49m\u001b[43mbbox\u001b[49m\u001b[43m.\u001b[49m\u001b[43my0\u001b[49m\u001b[43m,\u001b[49m\u001b[43m \u001b[49m\u001b[43mrenderer\u001b[49m\u001b[43m)\u001b[49m\n\u001b[32m    307\u001b[39m         \u001b[38;5;28;01mif\u001b[39;00m \u001b[38;5;28mcallable\u001b[39m(\u001b[38;5;28mself\u001b[39m._offset)\n\u001b[32m    308\u001b[39m         \u001b[38;5;28;01melse\u001b[39;00m \u001b[38;5;28mself\u001b[39m._offset)\n",
      "\u001b[36mFile \u001b[39m\u001b[32m~/Documents/GitHub/wisdom_agents/.conda/lib/python3.12/site-packages/matplotlib/legend.py:721\u001b[39m, in \u001b[36mLegend._findoffset\u001b[39m\u001b[34m(self, width, height, xdescent, ydescent, renderer)\u001b[39m\n\u001b[32m    718\u001b[39m \u001b[38;5;250m\u001b[39m\u001b[33;03m\"\"\"Helper function to locate the legend.\"\"\"\u001b[39;00m\n\u001b[32m    720\u001b[39m \u001b[38;5;28;01mif\u001b[39;00m \u001b[38;5;28mself\u001b[39m._loc == \u001b[32m0\u001b[39m:  \u001b[38;5;66;03m# \"best\".\u001b[39;00m\n\u001b[32m--> \u001b[39m\u001b[32m721\u001b[39m     x, y = \u001b[38;5;28;43mself\u001b[39;49m\u001b[43m.\u001b[49m\u001b[43m_find_best_position\u001b[49m\u001b[43m(\u001b[49m\u001b[43mwidth\u001b[49m\u001b[43m,\u001b[49m\u001b[43m \u001b[49m\u001b[43mheight\u001b[49m\u001b[43m,\u001b[49m\u001b[43m \u001b[49m\u001b[43mrenderer\u001b[49m\u001b[43m)\u001b[49m\n\u001b[32m    722\u001b[39m \u001b[38;5;28;01melif\u001b[39;00m \u001b[38;5;28mself\u001b[39m._loc \u001b[38;5;129;01min\u001b[39;00m Legend.codes.values():  \u001b[38;5;66;03m# Fixed location.\u001b[39;00m\n\u001b[32m    723\u001b[39m     bbox = Bbox.from_bounds(\u001b[32m0\u001b[39m, \u001b[32m0\u001b[39m, width, height)\n",
      "\u001b[36mFile \u001b[39m\u001b[32m~/Documents/GitHub/wisdom_agents/.conda/lib/python3.12/site-packages/matplotlib/legend.py:1153\u001b[39m, in \u001b[36mLegend._find_best_position\u001b[39m\u001b[34m(self, width, height, renderer)\u001b[39m\n\u001b[32m   1149\u001b[39m \u001b[38;5;28;01massert\u001b[39;00m \u001b[38;5;28mself\u001b[39m.isaxes  \u001b[38;5;66;03m# always holds, as this is only called internally\u001b[39;00m\n\u001b[32m   1151\u001b[39m start_time = time.perf_counter()\n\u001b[32m-> \u001b[39m\u001b[32m1153\u001b[39m bboxes, lines, offsets = \u001b[38;5;28;43mself\u001b[39;49m\u001b[43m.\u001b[49m\u001b[43m_auto_legend_data\u001b[49m\u001b[43m(\u001b[49m\u001b[43m)\u001b[49m\n\u001b[32m   1155\u001b[39m bbox = Bbox.from_bounds(\u001b[32m0\u001b[39m, \u001b[32m0\u001b[39m, width, height)\n\u001b[32m   1157\u001b[39m candidates = []\n",
      "\u001b[36mFile \u001b[39m\u001b[32m~/Documents/GitHub/wisdom_agents/.conda/lib/python3.12/site-packages/matplotlib/legend.py:968\u001b[39m, in \u001b[36mLegend._auto_legend_data\u001b[39m\u001b[34m(self)\u001b[39m\n\u001b[32m    965\u001b[39m     lines.extend(artist.get_transform().transform_path(path)\n\u001b[32m    966\u001b[39m                  \u001b[38;5;28;01mfor\u001b[39;00m path \u001b[38;5;129;01min\u001b[39;00m artist.get_paths())\n\u001b[32m    967\u001b[39m \u001b[38;5;28;01melif\u001b[39;00m \u001b[38;5;28misinstance\u001b[39m(artist, Collection):\n\u001b[32m--> \u001b[39m\u001b[32m968\u001b[39m     transform, transOffset, hoffsets, _ = \u001b[43martist\u001b[49m\u001b[43m.\u001b[49m\u001b[43m_prepare_points\u001b[49m\u001b[43m(\u001b[49m\u001b[43m)\u001b[49m\n\u001b[32m    969\u001b[39m     \u001b[38;5;28;01mif\u001b[39;00m \u001b[38;5;28mlen\u001b[39m(hoffsets):\n\u001b[32m    970\u001b[39m         offsets.extend(transOffset.transform(hoffsets))\n",
      "\u001b[36mFile \u001b[39m\u001b[32m~/Documents/GitHub/wisdom_agents/.conda/lib/python3.12/site-packages/matplotlib/collections.py:316\u001b[39m, in \u001b[36mCollection._prepare_points\u001b[39m\u001b[34m(self)\u001b[39m\n\u001b[32m    311\u001b[39m \u001b[38;5;28;01mdef\u001b[39;00m\u001b[38;5;250m \u001b[39m\u001b[34mget_window_extent\u001b[39m(\u001b[38;5;28mself\u001b[39m, renderer=\u001b[38;5;28;01mNone\u001b[39;00m):\n\u001b[32m    312\u001b[39m     \u001b[38;5;66;03m# TODO: check to ensure that this does not fail for\u001b[39;00m\n\u001b[32m    313\u001b[39m     \u001b[38;5;66;03m# cases other than scatter plot legend\u001b[39;00m\n\u001b[32m    314\u001b[39m     \u001b[38;5;28;01mreturn\u001b[39;00m \u001b[38;5;28mself\u001b[39m.get_datalim(transforms.IdentityTransform())\n\u001b[32m--> \u001b[39m\u001b[32m316\u001b[39m \u001b[38;5;28;01mdef\u001b[39;00m\u001b[38;5;250m \u001b[39m\u001b[34m_prepare_points\u001b[39m(\u001b[38;5;28mself\u001b[39m):\n\u001b[32m    317\u001b[39m     \u001b[38;5;66;03m# Helper for drawing and hit testing.\u001b[39;00m\n\u001b[32m    319\u001b[39m     transform = \u001b[38;5;28mself\u001b[39m.get_transform()\n\u001b[32m    320\u001b[39m     offset_trf = \u001b[38;5;28mself\u001b[39m.get_offset_transform()\n",
      "\u001b[31mKeyboardInterrupt\u001b[39m: "
     ]
    }
   ],
   "source": [
    "use_std = True\n",
    "\n",
    "# Get unique question numbers and models\n",
    "question_nums = sorted(grouped_by_question['question_num'].unique())\n",
    "models = sorted(grouped_by_question['model_name'].unique())\n",
    "num_models = len(models)\n",
    "\n",
    "# Set up the plot\n",
    "plt.figure(figsize=(15, 6))\n",
    "\n",
    "# Set width for the model offset from the question_num center\n",
    "width = 0.25  # Adjust based on how many models you have\n",
    "\n",
    "# Define colors for models\n",
    "model_colors = plt.cm.tab10(np.linspace(0, 1, num_models))\n",
    "\n",
    "# Create positions for the points\n",
    "positions = {}\n",
    "for i, model in enumerate(models):\n",
    "    # This creates a slight offset for each model (-0.25, 0, 0.25 for 3 models)\n",
    "    offset = (i - (num_models-1)/2) * width\n",
    "    positions[model] = [q + offset for q in question_nums]\n",
    "    \n",
    "    # Get the data for this model\n",
    "    model_data = grouped_by_question[grouped_by_question['model_name'] == model]\n",
    "    \n",
    "    # Plot only the question numbers that exist for this model\n",
    "    for idx, q_num in enumerate(question_nums):\n",
    "        # Find data for this question number and model\n",
    "        q_data = model_data[model_data['question_num'] == q_num]\n",
    "        \n",
    "        if use_std:\n",
    "            # Only plot if we have data\n",
    "            if not q_data.empty:\n",
    "                plt.errorbar(\n",
    "                    positions[model][idx],  # Use the precomputed position\n",
    "                    q_data['mean'].values[0],\n",
    "                    yerr=q_data['std'].values[0],\n",
    "                    fmt='o',  # Use circles as markers\n",
    "                    color=model_colors[i],\n",
    "                    label=model if idx == 0 else \"\",  # Only add to legend once\n",
    "                    capsize=3  # Add caps to error bars\n",
    "                )\n",
    "        else: \n",
    "            # Only plot if we have data\n",
    "            if not q_data.empty:\n",
    "                plt.errorbar(\n",
    "                    positions[model][idx],  # Use the precomputed position\n",
    "                    q_data['mean'].values[0],\n",
    "                    yerr=q_data['sem'].values[0],\n",
    "                    fmt='o',  # Use circles as markers\n",
    "                    color=model_colors[i],\n",
    "                    label=model if idx == 0 else \"\",  # Only add to legend once\n",
    "                    capsize=3  # Add caps to error bars\n",
    "                )\n",
    "\n",
    "# Set x-ticks at question numbers only (not the offset positions)\n",
    "plt.xticks(question_nums, rotation=90)  # Rotate labels for better visibility if many questions\n",
    "\n",
    "# Color the tick labels based on category\n",
    "ax = plt.gca()\n",
    "for tick in ax.get_xticklabels():\n",
    "    question = int(tick.get_text())\n",
    "    if question <= 40:  # IH category\n",
    "        tick.set_color('blue')\n",
    "    else:  # IB category\n",
    "        tick.set_color('red')\n",
    "\n",
    "# Add a vertical line to separate categories\n",
    "plt.axvline(x=40.5, color='black', linestyle='--', alpha=0.7)\n",
    "\n",
    "# Get y-limits for placing text\n",
    "y_min, y_max = plt.ylim()\n",
    "y_text = y_max * 0.95\n",
    "\n",
    "# Add annotations for categories\n",
    "plt.text(20, y_text, 'IH Category', color='blue', ha='center', fontsize=12)\n",
    "plt.text(np.mean([x for x in question_nums if x > 40]), y_text, \n",
    "         'IB Category', color='red', ha='center', fontsize=12)\n",
    "\n",
    "# Add labels and legend\n",
    "plt.xlabel('Question Number')\n",
    "plt.ylabel('Mean Value')\n",
    "plt.title('Mean Values by Question Number and Model')\n",
    "plt.legend()\n",
    "\n",
    "# Add grid for better readability\n",
    "plt.grid(True, linestyle='--', alpha=0.7)\n",
    "\n",
    "# Adjust layout to make room for rotated labels\n",
    "plt.tight_layout()\n",
    "plt.show()"
   ]
  },
  {
   "cell_type": "markdown",
   "id": "6c83dfd0",
   "metadata": {},
   "source": [
    "### Plotting single agents on the IB v IH "
   ]
  },
  {
   "cell_type": "code",
   "execution_count": 115,
   "id": "c2f07b2b",
   "metadata": {},
   "outputs": [
    {
     "data": {
      "image/png": "[encoded data removed]",
      "text/plain": [
       "<Figure size 500x500 with 1 Axes>"
      ]
     },
     "metadata": {},
     "output_type": "display_data"
    }
   ],
   "source": [
    "use_std = True\n",
    "# Plot KDE with models on top\n",
    "fig, ax = plt.subplots(figsize=(5, 5))\n",
    "\n",
    "# Plot human KDE first using your existing function\n",
    "human_kde(human_df=h2, ax=ax, alpha=0.7)\n",
    "\n",
    "# Get unique models\n",
    "models = grouped_by_category['model_name'].unique()\n",
    "colors = plt.cm.tab10(np.linspace(0, 1, len(models)))\n",
    "\n",
    "# For each model, get data for both categories and plot\n",
    "for i, model in enumerate(models):\n",
    "    # Get IH data for this model\n",
    "    ih_data = grouped_by_category[(grouped_by_category['model_name'] == model) & \n",
    "                                 (grouped_by_category['category'] == 'IH')]\n",
    "    \n",
    "    # Get IB data for this model\n",
    "    ib_data = grouped_by_category[(grouped_by_category['model_name'] == model) & \n",
    "                                 (grouped_by_category['category'] == 'IB')]\n",
    "    \n",
    "    # If we have both IH and IB data for this model\n",
    "    if not ih_data.empty and not ib_data.empty:\n",
    "        ih_mean = ih_data['mean'].values[0]\n",
    "        if use_std:\n",
    "            ih_sem = ih_data['std'].values[0]\n",
    "        else: \n",
    "            ih_sem = ih_data['sem'].values[0]\n",
    "        ib_mean = ib_data['mean'].values[0]\n",
    "        if use_std:\n",
    "            ib_sem = ib_data['std'].values[0]\n",
    "        else:\n",
    "            ib_sem = ib_data['sem'].values[0]\n",
    "        \n",
    "        # Plot the model point with error bars\n",
    "        ax.errorbar(\n",
    "            ih_mean, ib_mean,\n",
    "            xerr=ih_sem, yerr=ib_sem, \n",
    "            fmt='o', color=colors[i], \n",
    "            label=model, capsize=3\n",
    "        )\n",
    "\n",
    "# Set axis labels and limits\n",
    "ax.set_xlabel('IH Score')\n",
    "ax.set_ylabel('IB Score')\n",
    "ax.set_xlim(0, 7)\n",
    "ax.set_ylim(0, 7)\n",
    "ax.legend()\n",
    "\n",
    "plt.tight_layout()\n",
    "plt.show()"
   ]
  },
  {
   "cell_type": "markdown",
   "id": "7e6a1243",
   "metadata": {},
   "source": [
    "# MultiAgent"
   ]
  },
  {
   "cell_type": "markdown",
   "id": "b7783ed7",
   "metadata": {},
   "source": [
    "## MultiAgent Ring Data"
   ]
  },
  {
   "cell_type": "code",
   "execution_count": null,
   "id": "444f1aed",
   "metadata": {},
   "outputs": [],
   "source": [
    "# load single agent data\n",
    "ring_csv_files = 'results_multi/ring_ggb_ensemble_e5a3b6bf_q1-90_n1.csv' # only 1 run \n",
    "\n",
    "# Step 1: load csv file and add category\n",
    "ring_df = pd.read_csv(ring_csv_files)\n",
    "ring_df['category'] = ring_df['question_id'].apply(lambda x: Qs.get_question_category(str(x)))\n",
    "\n",
    "# Step 2: Parse the JSON columns\n",
    "# For each column that contains JSON data\n",
    "json_columns = ['config_details', 'conversation_history', 'agent_responses']\n",
    "\n",
    "for column in json_columns:\n",
    "    ring_df[column] = ring_df[column].apply(json.loads)\n"
   ]
  },
  {
   "cell_type": "code",
   "execution_count": null,
   "id": "30acaf42",
   "metadata": {},
   "outputs": [],
   "source": [
    "# round robins for each question\n",
    "round_robin_responses = ring_df['agent_responses']\n",
    "\n",
    "# nubmer of rounds, models, and repeats assumes that all questions \n",
    "# have the same rounds, the same models and the same number of repeats (and all models have the same number of repeats)\n",
    "n_rounds = ring_df['config_details'][0]['loops'] # number of rounds per round robin\n",
    "n_models = len(ring_df['config_details'][0]['ensemble']) # number of models\n",
    "n_repeats = ring_df['config_details'][0]['ensemble'][0]['number'] # number of repeats (same question different round robin)\n",
    "\n",
    "for q_id in range(1,91):\n",
    "    idx = q_id -1 # indiex into round_robins\n",
    "    \n",
    "    \n"
   ]
  },
  {
   "cell_type": "code",
   "execution_count": null,
   "id": "731e071a",
   "metadata": {},
   "outputs": [
    {
     "data": {
      "text/plain": [
       "0     [{'agent_name': 'agent_openai_gpt_4o_mini_0_0'...\n",
       "1     [{'agent_name': 'agent_openai_gpt_4o_mini_0_0'...\n",
       "2     [{'agent_name': 'agent_openai_gpt_4o_mini_0_0'...\n",
       "3     [{'agent_name': 'agent_openai_gpt_4o_mini_0_0'...\n",
       "4     [{'agent_name': 'agent_openai_gpt_4o_mini_0_0'...\n",
       "                            ...                        \n",
       "85    [{'agent_name': 'agent_openai_gpt_4o_mini_0_0'...\n",
       "86    [{'agent_name': 'agent_openai_gpt_4o_mini_0_0'...\n",
       "87    [{'agent_name': 'agent_openai_gpt_4o_mini_0_0'...\n",
       "88    [{'agent_name': 'agent_openai_gpt_4o_mini_0_0'...\n",
       "89    [{'agent_name': 'agent_openai_gpt_4o_mini_0_0'...\n",
       "Name: agent_responses, Length: 90, dtype: object"
      ]
     },
     "execution_count": 113,
     "metadata": {},
     "output_type": "execute_result"
    }
   ],
   "source": []
  },
  {
   "cell_type": "code",
   "execution_count": null,
   "id": "0477c757",
   "metadata": {},
   "outputs": [
    {
     "data": {
      "text/plain": [
       "3"
      ]
     },
     "execution_count": 104,
     "metadata": {},
     "output_type": "execute_result"
    }
   ],
   "source": []
  },
  {
   "cell_type": "code",
   "execution_count": null,
   "id": "b3684668",
   "metadata": {},
   "outputs": [],
   "source": []
  }
 ],
 "metadata": {
  "kernelspec": {
   "display_name": "Python 3",
   "language": "python",
   "name": "python3"
  },
  "language_info": {
   "codemirror_mode": {
    "name": "ipython",
    "version": 3
   },
   "file_extension": ".py",
   "mimetype": "text/x-python",
   "name": "python",
   "nbconvert_exporter": "python",
   "pygments_lexer": "ipython3",
   "version": "3.12.9"
  }
 },
 "nbformat": 4,
 "nbformat_minor": 5
}
