{
 "cells": [
  {
   "cell_type": "code",
   "execution_count": null,
   "id": "0",
   "metadata": {},
   "outputs": [],
   "source": [
    "# NOTE PLEASE USE FORKED https://github.com/sinemmy/greatest-good-benchmark (questions have unique identifiers)\n",
    "import os \n",
    "import json\n",
    "\n",
    "# CURRENTLY THE QUESTION DIR AND WISODM DIR IS EXPECTED TO BE SEPARATE FOLDERS IN YOUR GITHUB FOLDER \n",
    "QUESTION_DIR = '../greatest-good-benchmark/' # CHANGE HERE IF NEEDED\n",
    "\n",
    "\n",
    "# making DATA_DIR separate becuase they also have prompts (originaly but also including inverting the likert scale)\n",
    "QUESTION_DATA_DIR = os.path.abspath(QUESTION_DIR + 'data/') \n",
    "QUESTION_JSON = os.path.abspath('./GreatestGoodBenchmark.json')\n",
    "INVERTED_JSON = os.path.abspath('./GreatestGoodBenchmarkInverted.json')"
   ]
  },
  {
   "cell_type": "code",
   "execution_count": null,
   "id": "1",
   "metadata": {},
   "outputs": [],
   "source": [
    "## Add unique identifiers for each question (Only need to do this once and it should stop you from doing it again)\n",
    "\n",
    "with open(QUESTION_JSON, 'r') as f:\n",
    "    data = json.load(f)\n",
    "\n",
    "# Check if IDs already exist\n",
    "if not all('statement_id' in item for item in data):\n",
    "    # Add IDs to each item\n",
    "    for i, item in enumerate(data, 1):\n",
    "        item['statement_id'] = str(i)\n",
    "    \n",
    "    # Save updated JSON\n",
    "    with open('benchmark_questions_with_ids.json', 'w') as f:\n",
    "        json.dump(data, f, indent=2)\n",
    "    print(\"Added IDs to questions\")\n",
    "else:\n",
    "    print(\"Questions already have IDs\")\n",
    "\n",
    "with open(QUESTION_JSON, 'w') as f:\n",
    "    json.dump(data, f, indent=2)"
   ]
  },
  {
   "cell_type": "code",
   "execution_count": null,
   "id": "2",
   "metadata": {},
   "outputs": [],
   "source": [
    "from typing import Literal\n",
    "\n",
    "class GGB_Statements:\n",
    "    def __init__(self, JSONpath = QUESTION_JSON):\n",
    "        self.json_data = self._load_json(JSONpath)\n",
    "        self.questions = self._json_to_dict()\n",
    "        \n",
    "\n",
    "    def _load_json(self, path):\n",
    "        with open(path, 'r') as f:\n",
    "            return json.load(f)\n",
    "    \n",
    "    def _json_to_dict(self):\n",
    "        self.questions  = {}\n",
    "        for entry in self.json_data:\n",
    "            id = entry['statement_id']\n",
    "            category = entry['type']\n",
    "            question = entry['statement']\n",
    "            self.questions[id] = {'id': int(id), 'question': question, 'category':category}\n",
    "        return self.questions\n",
    "\n",
    "    def print_question(self, question_id, printout=False):\n",
    "        qstring = self.questions[question_id]['question']\n",
    "        if printout:\n",
    "            print(f'{qstring}')\n",
    "        return qstring\n",
    "    \n",
    "    def get_questions_by_category(self, category: Literal[\"IH\", \"IB\"], questions_only = False):\n",
    "        # questions only means that only the statements are returned (list of strings)\n",
    "        # if false, then list of dict is returned with id, question, and category\n",
    "        if questions_only: \n",
    "            return [q['question'] for q in self.questions if q[\"type\"] == category]\n",
    "        else: \n",
    "            return [q for q in self.questions if q[\"type\"] == category]\n",
    "        \n",
    "    # get number of total questions\n",
    "    def get_total_questions(self):\n",
    "        return len(self.json_data)\n",
    "    \n",
    "    def get_question_by_index(self, index):\n",
    "        if index < 0 or index >= len(self.json_data):\n",
    "            raise IndexError(\"Index out of range\")\n",
    "        return self.json_data[index]\n",
    "    \n",
    "\n",
    "\n",
    "        \n",
    "    "
   ]
  },
  {
   "cell_type": "code",
   "execution_count": null,
   "id": "3",
   "metadata": {},
   "outputs": [],
   "source": [
    "# GGB Questions\n",
    "Qs = GGB_Statements()\n",
    "# GGB Inverted Questions\n",
    "InvertQs = GGB_Statements(INVERTED_JSON)"
   ]
  },
  {
   "cell_type": "code",
   "execution_count": null,
   "id": "4",
   "metadata": {},
   "outputs": [],
   "source": [
    "Qs.get_question_by_index(0)"
   ]
  },
  {
   "cell_type": "code",
   "execution_count": null,
   "id": "5",
   "metadata": {},
   "outputs": [],
   "source": [
    "sampleQ = Qs.print_question('1', printout=False)\n",
    "sampleInvert = InvertQs.print_question('101', printout=False)\n",
    "print(f'\\t Original Question: \\n {sampleQ} \\n \\t Inverted Question: \\n {sampleInvert}')\n",
    "# note: the inversions are not perfect quite yet but its a start\n"
   ]
  },
  {
   "cell_type": "code",
   "execution_count": null,
   "id": "6",
   "metadata": {},
   "outputs": [],
   "source": []
  }
 ],
 "metadata": {
  "kernelspec": {
   "display_name": "sitewiz",
   "language": "python",
   "name": "python3"
  },
  "language_info": {
   "codemirror_mode": {
    "name": "ipython",
    "version": 3
   },
   "file_extension": ".py",
   "mimetype": "text/x-python",
   "name": "python",
   "nbconvert_exporter": "python",
   "pygments_lexer": "ipython3",
   "version": "3.12.9"
  }
 },
 "nbformat": 4,
 "nbformat_minor": 5
}
