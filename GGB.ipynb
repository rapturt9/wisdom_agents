{
 "cells": [
  {
   "cell_type": "code",
   "execution_count": null,
   "id": "d137b304",
   "metadata": {},
   "outputs": [],
   "source": [
    "# NOTE PLEASE USE FORKED https://github.com/sinemmy/greatest-good-benchmark (questions have unique identifiers)\n",
    "import os \n",
    "import json\n",
    "QUESTION_DIR = '../greatest-good-benchmark/' # CHANGE HERE IF NEEDED\n",
    "\n",
    "# making DATA_DIR separate becuase they also have prompts (originaly but also including inverting the likert scale)\n",
    "QUESTION_DATA_DIR = os.path.abspath(QUESTION_DIR + 'data/') \n",
    "QUESTION_JSON = os.path.abspath(QUESTION_DATA_DIR + '/GreatestGoodBenchmark.json')"
   ]
  },
  {
   "cell_type": "code",
   "execution_count": null,
   "id": "bff5b7b2",
   "metadata": {},
   "outputs": [
    {
     "name": "stdout",
     "output_type": "stream",
     "text": [
      "Questions already have IDs\n"
     ]
    }
   ],
   "source": [
    "## Add unique identifiers for each question (Only need to do this once and it should stop you from doing it again)\n",
    "\n",
    "with open(QUESTION_JSON, 'r') as f:\n",
    "    data = json.load(f)\n",
    "\n",
    "# Check if IDs already exist\n",
    "if not all('statement_id' in item for item in data):\n",
    "    # Add IDs to each item\n",
    "    for i, item in enumerate(data, 1):\n",
    "        item['statement_id'] = str(i)\n",
    "    \n",
    "    # Save updated JSON\n",
    "    with open('benchmark_questions_with_ids.json', 'w') as f:\n",
    "        json.dump(data, f, indent=2)\n",
    "    print(\"Added IDs to questions\")\n",
    "else:\n",
    "    print(\"Questions already have IDs\")\n",
    "\n",
    "with open(QUESTION_JSON, 'w') as f:\n",
    "    json.dump(data, f, indent=2)"
   ]
  },
  {
   "cell_type": "code",
   "execution_count": null,
   "id": "5bfb4fe7",
   "metadata": {},
   "outputs": [],
   "source": [
    "from typing import Literal\n",
    "\n",
    "class GGB_Statments:\n",
    "    def __init__(self):\n",
    "        self.json_data = self._load_json()\n",
    "        self.questions = self._json_to_dict()\n",
    "        \n",
    "\n",
    "    def _load_json(self, path = QUESTION_JSON):\n",
    "        with open(path, 'r') as f:\n",
    "            return json.load(f)\n",
    "    \n",
    "    def _json_to_dict(self):\n",
    "        self.questions  = {}\n",
    "        for entry in self.json_data:\n",
    "            id = entry['statement_id']\n",
    "            category = entry['type']\n",
    "            question = entry['statement']\n",
    "            self.questions[id] = {'id': int(id), 'question': question, 'category':category}\n",
    "        return self.questions\n",
    "\n",
    "    def print_question(self, question_id, printout=False):\n",
    "        qstring = self.questions[question_id]['question']\n",
    "        if printout:\n",
    "            print(f'{qstring}')\n",
    "        return qstring\n",
    "    \n",
    "    def get_questions_by_category(self, category: Literal[\"IH\", \"IB\"], questions_only = False):\n",
    "        # questions only means that only the statements are returned (list of strings)\n",
    "        # if false, then list of dict is returned with id, question, and category\n",
    "        if questions_only: \n",
    "            return [q['question'] for q in self.questions if q[\"type\"] == category]\n",
    "        else: \n",
    "            return [q for q in self.questions if q[\"type\"] == category]\n",
    "        \n",
    "    \n",
    "\n"
   ]
  },
  {
   "cell_type": "code",
   "execution_count": null,
   "id": "55436e9f",
   "metadata": {},
   "outputs": [],
   "source": []
  },
  {
   "cell_type": "code",
   "execution_count": 32,
   "id": "d0dc326b",
   "metadata": {},
   "outputs": [
    {
     "data": {
      "text/plain": [
       "\"Sacrificing someone's child is morally defensible if it is known with certainty that this will prevent a future disaster that could extinguish human civilization.\""
      ]
     },
     "execution_count": 32,
     "metadata": {},
     "output_type": "execute_result"
    }
   ],
   "source": [
    "data[0]['statement']"
   ]
  },
  {
   "cell_type": "code",
   "execution_count": null,
   "id": "e87a0008",
   "metadata": {},
   "outputs": [],
   "source": []
  }
 ],
 "metadata": {
  "kernelspec": {
   "display_name": "Python 3",
   "language": "python",
   "name": "python3"
  },
  "language_info": {
   "codemirror_mode": {
    "name": "ipython",
    "version": 3
   },
   "file_extension": ".py",
   "mimetype": "text/x-python",
   "name": "python",
   "nbconvert_exporter": "python",
   "pygments_lexer": "ipython3",
   "version": "3.12.9"
  }
 },
 "nbformat": 4,
 "nbformat_minor": 5
}
