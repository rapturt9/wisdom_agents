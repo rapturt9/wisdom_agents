{
 "cells": [
  {
   "cell_type": "code",
   "execution_count": 1,
   "id": "a5954af1",
   "metadata": {},
   "outputs": [],
   "source": [
    "import os\n",
    "from openai import OpenAI\n",
    "import json\n",
    "import collections\n",
    "import asyncio\n",
    "\n",
    "import subprocess\n",
    "import sys\n",
    "\n",
    "\n",
    "from autogen_agentchat.agents import AssistantAgent\n",
    "from autogen_agentchat.ui import Console\n",
    "from autogen_ext.models.openai import OpenAIChatCompletionClient\n",
    "from dotenv import load_dotenv\n",
    "\n",
    "from typing import Literal\n"
   ]
  },
  {
   "cell_type": "code",
   "execution_count": 2,
   "id": "c9c1a68d",
   "metadata": {},
   "outputs": [
    {
     "name": "stdout",
     "output_type": "stream",
     "text": [
      "Questions already have IDs\n"
     ]
    }
   ],
   "source": [
    "# core vairables to import from src \n",
    "from src import models, TEMP\n",
    "# main functions to import from src\n",
    "from src import GGB_Statements, Single_Agent_Handler, PromptHandler\n",
    "\n",
    "# helper functions to import from src to handle filenaming and checkpooints\n",
    "# from src import extract_confidence_from_response_single, extract_answer_from_response_single, get_consistent_filenames, save_checkpoint, load_checkpoint\n",
    "\n",
    "# API_KEY = os.environ.get(\"OPENROUTER_API_KEY\")  # Local environment variable\n"
   ]
  },
  {
   "cell_type": "code",
   "execution_count": null,
   "id": "1d886fba",
   "metadata": {},
   "outputs": [],
   "source": [
    "# questions \n",
    "QUESTION_JSON = os.path.abspath('GGB_benchmark/GreatestGoodBenchmark.json') \n",
    "Inverted_JSON = os.path.abspath('GGB_benchmark/GreatestGoodBenchmarkInverted.json') \n",
    "Qs = GGB_Statements(QUESTION_JSON) \n",
    "iQs = GGB_Statements(Inverted_JSON)"
   ]
  },
  {
   "cell_type": "code",
   "execution_count": null,
   "id": "c3e2f490",
   "metadata": {},
   "outputs": [],
   "source": [
    "async def run_main_single(single:Single_Agent_Handler): # Renamed to avoid conflict if running star chat later\n",
    "    _, csv_file_path, log_file_path = await single.run_single_agent_and_save()\n",
    "    \n",
    "    print(f\"Run session completed for {single.model_name}. Results appended to {csv_file_path}\")\n",
    "    print(f\"Full logs appended to {log_file_path}\")\n",
    "    \n",
    "\n",
    "if __name__ == '__main__':\n",
    "    # Standard way to run asyncio main in a script/notebook\n",
    "    # In Jupyter, top-level await might work, but this is more robust.\n",
    "    ##########################################\n",
    "    # TODO: CHANGE PROMPT, DIRS, BASE HERE!\n",
    "    ##########################################\n",
    "    N_REPEATS = 12\n",
    "    ggb_dirs = ['results', 'logs', 'checkpoints']\n",
    "    n_models = len(models)\n",
    "\n",
    "    # ggb BASE AND PROMPT\n",
    "    ggb_base = 'ggb_group_prompt'\n",
    "    ggb_prompt = PromptHandler(\n",
    "        persona = None, group_chat = True, reasoning = True, confidence = False, answer = True, alternative_prompt = None, invert_answer=False)\n",
    "\n",
    "    # INVERTED ggb BASE AND PROMPT\n",
    "    inverted_base = 'ggb_inverted_group_prompt'\n",
    "    ggb_inverted_prompt = PromptHandler(\n",
    "        persona = None, group_chat = True, reasoning = True, confidence = False, answer = True, alternative_prompt = None, invert_answer=True)\n",
    "    \n",
    "    # --- Execution Loop ---\n",
    "\n",
    "    for i in range(n_models):\n",
    "        run_model = models[i]\n",
    "\n",
    "        print(f\"\\n--- Initializing handler for model: {run_model} with ggb Questions ---\")\n",
    "        # Pass the imported Qs (GGB_Statements instance) to the handler\n",
    "        ggb_single = Single_Agent_Handler(run_model, Qs, ggb_prompt, dirs = ggb_dirs, base = ggb_base, n_repeats= N_REPEATS)\n",
    "\n",
    "        print(f\"\\n--- Initializing handler for model: {run_model} with inverted ggb Questions ---\")\n",
    "        # Pass the imported Qs (GGB_Statements instance) to the handler\n",
    "        ggb_inverted_single = Single_Agent_Handler(run_model, iQs, ggb_inverted_prompt, dirs = ggb_dirs, base = inverted_base, n_repeats=N_REPEATS)\n",
    "                                          \n",
    "        if 'get_ipython' in globals() and get_ipython().__class__.__name__ == 'ZMQInteractiveShell':\n",
    "            # Running in Jupyter, ensure nest_asyncio if needed or handle event loop\n",
    "            import nest_asyncio\n",
    "            nest_asyncio.apply()\n",
    "            asyncio.run(run_main_single(ggb_inverted_single))\n",
    "            asyncio.run(run_main_single(ggb_single))\n",
    "        else:\n",
    "            asyncio.run(run_main_single(ggb_inverted_single))\n",
    "            asyncio.run(run_main_single(ggb_single))\n",
    "        \n",
    "        del ggb_single\n",
    "        del ggb_inverted_single"
   ]
  }
 ],
 "metadata": {
  "kernelspec": {
   "display_name": "Python 3",
   "language": "python",
   "name": "python3"
  },
  "language_info": {
   "codemirror_mode": {
    "name": "ipython",
    "version": 3
   },
   "file_extension": ".py",
   "mimetype": "text/x-python",
   "name": "python",
   "nbconvert_exporter": "python",
   "pygments_lexer": "ipython3",
   "version": "3.12.2"
  }
 },
 "nbformat": 4,
 "nbformat_minor": 5
}
