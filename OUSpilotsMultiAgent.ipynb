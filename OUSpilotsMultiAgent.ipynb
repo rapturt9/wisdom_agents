{
 "cells": [
  {
   "cell_type": "code",
   "execution_count": 10,
   "id": "d1c7ea94",
   "metadata": {},
   "outputs": [],
   "source": [
    "import os\n",
    "from openai import OpenAI\n",
    "import json\n",
    "import collections\n",
    "import asyncio\n",
    "\n",
    "import subprocess\n",
    "import sys\n",
    "\n",
    "from datetime import datetime # Ensure datetime is imported\n",
    "\n",
    "from autogen_agentchat.agents import AssistantAgent\n",
    "from autogen_agentchat.ui import Console\n",
    "from autogen_ext.models.openai import OpenAIChatCompletionClient\n",
    "from autogen_agentchat.teams import RoundRobinGroupChat\n",
    "from autogen_agentchat.conditions import MaxMessageTermination\n",
    "\n",
    "from dotenv import load_dotenv\n",
    "\n",
    "from typing import Literal\n"
   ]
  },
  {
   "cell_type": "code",
   "execution_count": 11,
   "id": "b1a33aab",
   "metadata": {},
   "outputs": [],
   "source": [
    "# core vairables to import from src \n",
    "from src import models, TEMP\n",
    "# import question handler\n",
    "from src import GGB_Statements"
   ]
  },
  {
   "cell_type": "code",
   "execution_count": null,
   "id": "2b4f12c1",
   "metadata": {},
   "outputs": [],
   "source": [
    "QUESTION_JSON = os.path.abspath('GGB_benchmark/OUS.json') \n",
    "Inverted_JSON = os.path.abspath('GGB_benchmark/OUSinverted.json') \n",
    "ous_Qs = GGB_Statements(QUESTION_JSON) \n",
    "ous_iQs = GGB_Statements(Inverted_JSON)"
   ]
  },
  {
   "cell_type": "code",
   "execution_count": null,
   "id": "43f4a774",
   "metadata": {},
   "outputs": [],
   "source": [
    "# from src import create_config_hash, get_multi_agent_filenames, setup_logger_multi, load_checkpoint_multi\n",
    "from src import extract_answer_from_response, extract_confidence_from_response # , get_prompt, get_client\n",
    "from src import PromptHandler, MultiAgentHandler, RingHandler \n",
    "import gc\n",
    "\n",
    "import asyncio\n",
    "import random\n",
    "import time\n",
    "import gc\n",
    "from typing import Sequence, List, Dict, Any\n",
    "import hashlib\n",
    "import logging\n",
    "import re\n",
    "import csv\n"
   ]
  },
  {
   "cell_type": "code",
   "execution_count": null,
   "id": "f43a324c",
   "metadata": {},
   "outputs": [],
   "source": [
    "async def run_main_ring(Ring:RingHandler): # Renamed to avoid conflict if running star chat later\n",
    "    await Ring.main_ring_convergence()\n",
    "\n",
    "if __name__ == '__main__':\n",
    "\n",
    "    # TODO: CHANGE HERE:\n",
    "    NROUNDS = 3\n",
    "    NREPEATS = 10\n",
    "    # Standard way to run asyncio main in a script/notebook\n",
    "    ous_prompt = PromptHandler(group_chat = True)\n",
    "    inverted_prompt = PromptHandler(group_chat=True, invert_answer=True)\n",
    "    \n",
    "    ous_ring = RingHandler(models, ous_Qs,ous_prompt, nrounds=NROUNDS, nrepeats=NREPEATS, shuffle=False, chat_type = 'ous_ring', csv_dir = 'results_ous_multi')\n",
    "    ous_inverted_ring = RingHandler(models, ous_iQs, inverted_prompt, nrounds=NROUNDS, nrepeats=NREPEATS, \n",
    "                           shuffle=False, chat_type = 'ous_inverted_ring', csv_dir = 'results_ous_multi')\n",
    "\n",
    "    if 'get_ipython' in globals() and get_ipython().__class__.__name__ == 'ZMQInteractiveShell':\n",
    "        import nest_asyncio\n",
    "        nest_asyncio.apply()\n",
    "        asyncio.run(run_main_ring(ous_ring))\n",
    "        asyncio.run(run_main_ring(ous_inverted_ring))\n",
    "    else:\n",
    "        asyncio.run(run_main_ring(ous_ring))\n",
    "        asyncio.run(run_main_ring(ous_inverted_ring))"
   ]
  }
 ],
 "metadata": {
  "kernelspec": {
   "display_name": "Python 3",
   "language": "python",
   "name": "python3"
  },
  "language_info": {
   "codemirror_mode": {
    "name": "ipython",
    "version": 3
   },
   "file_extension": ".py",
   "mimetype": "text/x-python",
   "name": "python",
   "nbconvert_exporter": "python",
   "pygments_lexer": "ipython3",
   "version": "3.12.2"
  }
 },
 "nbformat": 4,
 "nbformat_minor": 5
}
