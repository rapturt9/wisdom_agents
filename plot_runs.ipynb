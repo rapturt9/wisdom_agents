{
 "cells": [
  {
   "cell_type": "code",
   "execution_count": null,
   "id": "0",
   "metadata": {},
   "outputs": [],
   "source": [
    "# load csv and graph\n",
    "import pandas as pd\n",
    "import matplotlib.pyplot as plt\n",
    "import seaborn as sns\n",
    "import os\n",
    "import json\n",
    "import numpy as np\n",
    "\n",
    "# csv_file = 'results/test.csv'\n",
    "# df = pd.read_csv(csv_file)\n",
    "\n",
    "# graph the results\n",
    "\n",
    "def plot_results(df, model_name):\n",
    "    # Filter the DataFrame for the specific model\n",
    "    model_df = df[df['model_name'] == model_name]\n",
    "\n",
    "    # Convert confidence to numeric\n",
    "    model_df['confidence'] = pd.to_numeric(model_df['confidence'], errors='coerce')\n",
    "\n",
    "    # Create a bar plot for the confidence scores\n",
    "    plt.figure(figsize=(12, 6))\n",
    "    sns.countplot(data=model_df, x='answer', hue='confidence', palette='viridis')\n",
    "    plt.title(f'Confidence Distribution for {model_name}')\n",
    "    plt.xlabel('Answer')\n",
    "    plt.ylabel('Count')\n",
    "    plt.legend(title='Confidence', bbox_to_anchor=(1.05, 1), loc='upper left')\n",
    "    plt.tight_layout()\n",
    "    plt.show()\n",
    "    # Save the plot\n",
    "    plot_file = os.path.join('plots', f'{model_name}_confidence_distribution.png')\n",
    "    os.makedirs(os.path.dirname(plot_file), exist_ok=True)\n",
    "    plt.savefig(plot_file)\n",
    "    print(f\"Plot saved to {plot_file}\")\n",
    "    plt.close()\n",
    "\n",
    "plot_results(df, 'openai/gpt-4o-mini')"
   ]
  }
 ],
 "metadata": {
  "language_info": {
   "name": "python"
  }
 },
 "nbformat": 4,
 "nbformat_minor": 5
}
