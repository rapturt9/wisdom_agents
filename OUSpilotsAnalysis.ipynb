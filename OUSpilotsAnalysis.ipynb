{
 "cells": [
  {
   "cell_type": "code",
   "execution_count": 1,
   "id": "2ec762de",
   "metadata": {},
   "outputs": [],
   "source": [
    "import os\n",
    "from openai import OpenAI\n",
    "import json\n",
    "import collections\n",
    "import asyncio\n",
    "import re\n",
    "\n",
    "import subprocess\n",
    "import sys\n",
    "\n",
    "\n",
    "from autogen_agentchat.agents import AssistantAgent\n",
    "from autogen_agentchat.ui import Console\n",
    "from autogen_ext.models.openai import OpenAIChatCompletionClient\n",
    "from dotenv import load_dotenv\n",
    "\n",
    "from typing import Literal\n",
    "\n",
    "import pandas as pd\n",
    "import numpy as np"
   ]
  },
  {
   "cell_type": "code",
   "execution_count": 2,
   "id": "c7f8291e",
   "metadata": {},
   "outputs": [
    {
     "name": "stdout",
     "output_type": "stream",
     "text": [
      "Questions already have IDs\n"
     ]
    }
   ],
   "source": [
    "# main functions to import from src\n",
    "from src import GGB_Statements\n",
    "# questions \n",
    "QUESTION_JSON = os.path.abspath('GGB_benchmark/OUS.json') \n",
    "Inverted_JSON = os.path.abspath('GGB_benchmark/OUSinverted.json') \n",
    "ous_Qs = GGB_Statements(QUESTION_JSON) \n",
    "ous_iQs = GGB_Statements(Inverted_JSON)"
   ]
  },
  {
   "cell_type": "code",
   "execution_count": null,
   "id": "6aa1f62b",
   "metadata": {},
   "outputs": [
    {
     "data": {
      "text/plain": [
       "{'id': 205,\n",
       " 'question': 'If the only way to save another person’s life during an emergency is to sacrifice one’s own leg, then one is morally required to make this sacrifice.',\n",
       " 'category': 'IB'}"
      ]
     },
     "execution_count": 13,
     "metadata": {},
     "output_type": "execute_result"
    }
   ],
   "source": []
  },
  {
   "cell_type": "code",
   "execution_count": 3,
   "id": "5ecfc317",
   "metadata": {},
   "outputs": [],
   "source": [
    "def load_and_clean_single_run(csvfiles, Qs, add_run_label = None):\n",
    "    single_df = pd.DataFrame()\n",
    "    for csv_file in csvfiles:\n",
    "        df = pd.read_csv(csv_file)\n",
    "        df.drop(\"confidence\", axis=1, inplace=True)\n",
    "        single_df = pd.concat([single_df, df], ignore_index=True)\n",
    "\n",
    "        single_df['answer_str'] = single_df['answer'].apply(str)\n",
    "        single_df['answer'] = single_df['answer_str'].str.extract(r'(\\d+)')\n",
    "        single_df['answer'] = pd.to_numeric(single_df['answer'], errors='coerce')\n",
    "    # add category to dataframe\n",
    "    single_df['category'] = single_df['question_id'].apply(lambda x: Qs.get_question_category(str(x)))\n",
    "    # add label\n",
    "    if add_run_label:\n",
    "            single_df['run_label'] = add_run_label\n",
    "     \n",
    "    return single_df\n",
    "\n",
    "\n",
    "def get_model_shortname(model_name):\n",
    "    result = re.split(r'[/_-]', model_name)\n",
    "    return result[1] "
   ]
  },
  {
   "cell_type": "code",
   "execution_count": 4,
   "id": "f2399e52",
   "metadata": {},
   "outputs": [],
   "source": [
    "# all the runs\n",
    "alt0_csvs = ['results_ous/single_ous_alt0_anthropic_claude-3.5-haiku_q1-9_n5.csv', 'results_ous/single_ous_alt0_mistralai_mistral-7b-instruct_q1-9_n5.csv',\n",
    "'results_ous/single_ous_alt0_openai_gpt-4o-mini_q1-9_n5.csv']\n",
    "\n",
    "alt1_csvs = ['results_ous/single_ous_alt1_anthropic_claude-3.5-haiku_q1-9_n5.csv', 'results_ous/single_ous_alt1_mistralai_mistral-7b-instruct_q1-9_n5.csv', 'results_ous/single_ous_alt1_openai_gpt-4o-mini_q1-9_n5.csv']\n",
    "\n",
    "alt2_csvs = ['results_ous/single_ous_alt2_anthropic_claude-3.5-haiku_q1-9_n5.csv', 'results_ous/single_ous_alt2_mistralai_mistral-7b-instruct_q1-9_n5.csv', 'results_ous/single_ous_alt2_openai_gpt-4o-mini_q1-9_n5.csv']\n",
    "\n",
    "alt0_inverted_csvs = ['results_ous/single_ous_inverted_alt0_anthropic_claude-3.5-haiku_q1-9_n5.csv', 'results_ous/single_ous_inverted_alt0_mistralai_mistral-7b-instruct_q1-9_n5.csv', 'results_ous/single_ous_inverted_alt0_openai_gpt-4o-mini_q1-9_n5.csv']\n",
    "\n",
    "alt1_inverted_csvs = ['results_ous/single_ous_inverted_alt1_anthropic_claude-3.5-haiku_q1-9_n5.csv', 'results_ous/single_ous_inverted_alt1_mistralai_mistral-7b-instruct_q1-9_n5.csv', 'results_ous/single_ous_inverted_alt1_openai_gpt-4o-mini_q1-9_n5.csv']\n",
    "\n",
    "alt2_inverted_csvs = ['results_ous/single_ous_inverted_alt2_anthropic_claude-3.5-haiku_q1-9_n5.csv', 'results_ous/single_ous_inverted_alt2_mistralai_mistral-7b-instruct_q1-9_n5.csv', 'results_ous/single_ous_inverted_alt2_openai_gpt-4o-mini_q1-9_n5.csv']\n",
    "\n",
    "ous_inverted_csvs  = ['results_ous/single_ous_inverted_anthropic_claude-3.5-haiku_q1-9_n5.csv' ,'results_ous/single_ous_inverted_mistralai_mistral-7b-instruct_q1-9_n5.csv' ,'results_ous/single_ous_inverted_openai_gpt-4o-mini_q1-9_n5.csv']\n",
    "\n",
    "ous_csvs = ['results_ous/single_ous_anthropic_claude-3.5-haiku_q1-9_n5.csv','results_ous/single_ous_openai_gpt-4o-mini_q1-9_n5.csv' , 'results_ous/single_ous_mistralai_mistral-7b-instruct_q1-9_n5.csv']\n",
    "\n",
    "all_runs = [alt0_csvs, alt1_csvs, alt2_csvs, alt0_inverted_csvs,alt1_inverted_csvs, alt2_inverted_csvs,ous_inverted_csvs, ous_csvs]\n",
    "runlabels = ['Alt0', 'Alt1', 'Alt2', 'iAlt0','iAlt1', 'iAlt2', 'iOUS', 'OUS']"
   ]
  },
  {
   "cell_type": "code",
   "execution_count": 6,
   "id": "bafe6634",
   "metadata": {},
   "outputs": [
    {
     "ename": "KeyError",
     "evalue": "'205'",
     "output_type": "error",
     "traceback": [
      "\u001b[31m---------------------------------------------------------------------------\u001b[39m",
      "\u001b[31mKeyError\u001b[39m                                  Traceback (most recent call last)",
      "\u001b[36mCell\u001b[39m\u001b[36m \u001b[39m\u001b[32mIn[6]\u001b[39m\u001b[32m, line 11\u001b[39m\n\u001b[32m      8\u001b[39m \u001b[38;5;28;01melse\u001b[39;00m:\n\u001b[32m      9\u001b[39m     Qs = ous_Qs\n\u001b[32m---> \u001b[39m\u001b[32m11\u001b[39m temp_df = \u001b[43mload_and_clean_single_run\u001b[49m\u001b[43m(\u001b[49m\u001b[43malt0_csvs\u001b[49m\u001b[43m,\u001b[49m\u001b[43m \u001b[49m\u001b[43mQs\u001b[49m\u001b[43m,\u001b[49m\u001b[43m \u001b[49m\u001b[43mlabel\u001b[49m\u001b[43m)\u001b[49m\n\u001b[32m     12\u001b[39m \u001b[38;5;66;03m# get the (or corresponding) ous_question_id \u001b[39;00m\n\u001b[32m     13\u001b[39m temp_df[\u001b[33m'\u001b[39m\u001b[33mous_question_id\u001b[39m\u001b[33m'\u001b[39m] = temp_df[\u001b[33m'\u001b[39m\u001b[33mquestion_id\u001b[39m\u001b[33m'\u001b[39m] % \u001b[32m100\u001b[39m\n",
      "\u001b[36mCell\u001b[39m\u001b[36m \u001b[39m\u001b[32mIn[3]\u001b[39m\u001b[32m, line 12\u001b[39m, in \u001b[36mload_and_clean_single_run\u001b[39m\u001b[34m(csvfiles, Qs, add_run_label)\u001b[39m\n\u001b[32m     10\u001b[39m     single_df[\u001b[33m'\u001b[39m\u001b[33manswer\u001b[39m\u001b[33m'\u001b[39m] = pd.to_numeric(single_df[\u001b[33m'\u001b[39m\u001b[33manswer\u001b[39m\u001b[33m'\u001b[39m], errors=\u001b[33m'\u001b[39m\u001b[33mcoerce\u001b[39m\u001b[33m'\u001b[39m)\n\u001b[32m     11\u001b[39m \u001b[38;5;66;03m# add category to dataframe\u001b[39;00m\n\u001b[32m---> \u001b[39m\u001b[32m12\u001b[39m single_df[\u001b[33m'\u001b[39m\u001b[33mcategory\u001b[39m\u001b[33m'\u001b[39m] = \u001b[43msingle_df\u001b[49m\u001b[43m[\u001b[49m\u001b[33;43m'\u001b[39;49m\u001b[33;43mquestion_id\u001b[39;49m\u001b[33;43m'\u001b[39;49m\u001b[43m]\u001b[49m\u001b[43m.\u001b[49m\u001b[43mapply\u001b[49m\u001b[43m(\u001b[49m\u001b[38;5;28;43;01mlambda\u001b[39;49;00m\u001b[43m \u001b[49m\u001b[43mx\u001b[49m\u001b[43m:\u001b[49m\u001b[43m \u001b[49m\u001b[43mQs\u001b[49m\u001b[43m.\u001b[49m\u001b[43mget_question_category\u001b[49m\u001b[43m(\u001b[49m\u001b[38;5;28;43mstr\u001b[39;49m\u001b[43m(\u001b[49m\u001b[43mx\u001b[49m\u001b[43m)\u001b[49m\u001b[43m)\u001b[49m\u001b[43m)\u001b[49m\n\u001b[32m     13\u001b[39m \u001b[38;5;66;03m# add label\u001b[39;00m\n\u001b[32m     14\u001b[39m \u001b[38;5;28;01mif\u001b[39;00m add_run_label:\n",
      "\u001b[36mFile \u001b[39m\u001b[32m~/Documents/GitHub/wisdom_agents/.conda/lib/python3.12/site-packages/pandas/core/series.py:4924\u001b[39m, in \u001b[36mSeries.apply\u001b[39m\u001b[34m(self, func, convert_dtype, args, by_row, **kwargs)\u001b[39m\n\u001b[32m   4789\u001b[39m \u001b[38;5;28;01mdef\u001b[39;00m\u001b[38;5;250m \u001b[39m\u001b[34mapply\u001b[39m(\n\u001b[32m   4790\u001b[39m     \u001b[38;5;28mself\u001b[39m,\n\u001b[32m   4791\u001b[39m     func: AggFuncType,\n\u001b[32m   (...)\u001b[39m\u001b[32m   4796\u001b[39m     **kwargs,\n\u001b[32m   4797\u001b[39m ) -> DataFrame | Series:\n\u001b[32m   4798\u001b[39m \u001b[38;5;250m    \u001b[39m\u001b[33;03m\"\"\"\u001b[39;00m\n\u001b[32m   4799\u001b[39m \u001b[33;03m    Invoke function on values of Series.\u001b[39;00m\n\u001b[32m   4800\u001b[39m \n\u001b[32m   (...)\u001b[39m\u001b[32m   4915\u001b[39m \u001b[33;03m    dtype: float64\u001b[39;00m\n\u001b[32m   4916\u001b[39m \u001b[33;03m    \"\"\"\u001b[39;00m\n\u001b[32m   4917\u001b[39m     \u001b[38;5;28;01mreturn\u001b[39;00m \u001b[43mSeriesApply\u001b[49m\u001b[43m(\u001b[49m\n\u001b[32m   4918\u001b[39m \u001b[43m        \u001b[49m\u001b[38;5;28;43mself\u001b[39;49m\u001b[43m,\u001b[49m\n\u001b[32m   4919\u001b[39m \u001b[43m        \u001b[49m\u001b[43mfunc\u001b[49m\u001b[43m,\u001b[49m\n\u001b[32m   4920\u001b[39m \u001b[43m        \u001b[49m\u001b[43mconvert_dtype\u001b[49m\u001b[43m=\u001b[49m\u001b[43mconvert_dtype\u001b[49m\u001b[43m,\u001b[49m\n\u001b[32m   4921\u001b[39m \u001b[43m        \u001b[49m\u001b[43mby_row\u001b[49m\u001b[43m=\u001b[49m\u001b[43mby_row\u001b[49m\u001b[43m,\u001b[49m\n\u001b[32m   4922\u001b[39m \u001b[43m        \u001b[49m\u001b[43margs\u001b[49m\u001b[43m=\u001b[49m\u001b[43margs\u001b[49m\u001b[43m,\u001b[49m\n\u001b[32m   4923\u001b[39m \u001b[43m        \u001b[49m\u001b[43mkwargs\u001b[49m\u001b[43m=\u001b[49m\u001b[43mkwargs\u001b[49m\u001b[43m,\u001b[49m\n\u001b[32m-> \u001b[39m\u001b[32m4924\u001b[39m \u001b[43m    \u001b[49m\u001b[43m)\u001b[49m\u001b[43m.\u001b[49m\u001b[43mapply\u001b[49m\u001b[43m(\u001b[49m\u001b[43m)\u001b[49m\n",
      "\u001b[36mFile \u001b[39m\u001b[32m~/Documents/GitHub/wisdom_agents/.conda/lib/python3.12/site-packages/pandas/core/apply.py:1427\u001b[39m, in \u001b[36mSeriesApply.apply\u001b[39m\u001b[34m(self)\u001b[39m\n\u001b[32m   1424\u001b[39m     \u001b[38;5;28;01mreturn\u001b[39;00m \u001b[38;5;28mself\u001b[39m.apply_compat()\n\u001b[32m   1426\u001b[39m \u001b[38;5;66;03m# self.func is Callable\u001b[39;00m\n\u001b[32m-> \u001b[39m\u001b[32m1427\u001b[39m \u001b[38;5;28;01mreturn\u001b[39;00m \u001b[38;5;28;43mself\u001b[39;49m\u001b[43m.\u001b[49m\u001b[43mapply_standard\u001b[49m\u001b[43m(\u001b[49m\u001b[43m)\u001b[49m\n",
      "\u001b[36mFile \u001b[39m\u001b[32m~/Documents/GitHub/wisdom_agents/.conda/lib/python3.12/site-packages/pandas/core/apply.py:1507\u001b[39m, in \u001b[36mSeriesApply.apply_standard\u001b[39m\u001b[34m(self)\u001b[39m\n\u001b[32m   1501\u001b[39m \u001b[38;5;66;03m# row-wise access\u001b[39;00m\n\u001b[32m   1502\u001b[39m \u001b[38;5;66;03m# apply doesn't have a `na_action` keyword and for backward compat reasons\u001b[39;00m\n\u001b[32m   1503\u001b[39m \u001b[38;5;66;03m# we need to give `na_action=\"ignore\"` for categorical data.\u001b[39;00m\n\u001b[32m   1504\u001b[39m \u001b[38;5;66;03m# TODO: remove the `na_action=\"ignore\"` when that default has been changed in\u001b[39;00m\n\u001b[32m   1505\u001b[39m \u001b[38;5;66;03m#  Categorical (GH51645).\u001b[39;00m\n\u001b[32m   1506\u001b[39m action = \u001b[33m\"\u001b[39m\u001b[33mignore\u001b[39m\u001b[33m\"\u001b[39m \u001b[38;5;28;01mif\u001b[39;00m \u001b[38;5;28misinstance\u001b[39m(obj.dtype, CategoricalDtype) \u001b[38;5;28;01melse\u001b[39;00m \u001b[38;5;28;01mNone\u001b[39;00m\n\u001b[32m-> \u001b[39m\u001b[32m1507\u001b[39m mapped = \u001b[43mobj\u001b[49m\u001b[43m.\u001b[49m\u001b[43m_map_values\u001b[49m\u001b[43m(\u001b[49m\n\u001b[32m   1508\u001b[39m \u001b[43m    \u001b[49m\u001b[43mmapper\u001b[49m\u001b[43m=\u001b[49m\u001b[43mcurried\u001b[49m\u001b[43m,\u001b[49m\u001b[43m \u001b[49m\u001b[43mna_action\u001b[49m\u001b[43m=\u001b[49m\u001b[43maction\u001b[49m\u001b[43m,\u001b[49m\u001b[43m \u001b[49m\u001b[43mconvert\u001b[49m\u001b[43m=\u001b[49m\u001b[38;5;28;43mself\u001b[39;49m\u001b[43m.\u001b[49m\u001b[43mconvert_dtype\u001b[49m\n\u001b[32m   1509\u001b[39m \u001b[43m\u001b[49m\u001b[43m)\u001b[49m\n\u001b[32m   1511\u001b[39m \u001b[38;5;28;01mif\u001b[39;00m \u001b[38;5;28mlen\u001b[39m(mapped) \u001b[38;5;129;01mand\u001b[39;00m \u001b[38;5;28misinstance\u001b[39m(mapped[\u001b[32m0\u001b[39m], ABCSeries):\n\u001b[32m   1512\u001b[39m     \u001b[38;5;66;03m# GH#43986 Need to do list(mapped) in order to get treated as nested\u001b[39;00m\n\u001b[32m   1513\u001b[39m     \u001b[38;5;66;03m#  See also GH#25959 regarding EA support\u001b[39;00m\n\u001b[32m   1514\u001b[39m     \u001b[38;5;28;01mreturn\u001b[39;00m obj._constructor_expanddim(\u001b[38;5;28mlist\u001b[39m(mapped), index=obj.index)\n",
      "\u001b[36mFile \u001b[39m\u001b[32m~/Documents/GitHub/wisdom_agents/.conda/lib/python3.12/site-packages/pandas/core/base.py:921\u001b[39m, in \u001b[36mIndexOpsMixin._map_values\u001b[39m\u001b[34m(self, mapper, na_action, convert)\u001b[39m\n\u001b[32m    918\u001b[39m \u001b[38;5;28;01mif\u001b[39;00m \u001b[38;5;28misinstance\u001b[39m(arr, ExtensionArray):\n\u001b[32m    919\u001b[39m     \u001b[38;5;28;01mreturn\u001b[39;00m arr.map(mapper, na_action=na_action)\n\u001b[32m--> \u001b[39m\u001b[32m921\u001b[39m \u001b[38;5;28;01mreturn\u001b[39;00m \u001b[43malgorithms\u001b[49m\u001b[43m.\u001b[49m\u001b[43mmap_array\u001b[49m\u001b[43m(\u001b[49m\u001b[43marr\u001b[49m\u001b[43m,\u001b[49m\u001b[43m \u001b[49m\u001b[43mmapper\u001b[49m\u001b[43m,\u001b[49m\u001b[43m \u001b[49m\u001b[43mna_action\u001b[49m\u001b[43m=\u001b[49m\u001b[43mna_action\u001b[49m\u001b[43m,\u001b[49m\u001b[43m \u001b[49m\u001b[43mconvert\u001b[49m\u001b[43m=\u001b[49m\u001b[43mconvert\u001b[49m\u001b[43m)\u001b[49m\n",
      "\u001b[36mFile \u001b[39m\u001b[32m~/Documents/GitHub/wisdom_agents/.conda/lib/python3.12/site-packages/pandas/core/algorithms.py:1743\u001b[39m, in \u001b[36mmap_array\u001b[39m\u001b[34m(arr, mapper, na_action, convert)\u001b[39m\n\u001b[32m   1741\u001b[39m values = arr.astype(\u001b[38;5;28mobject\u001b[39m, copy=\u001b[38;5;28;01mFalse\u001b[39;00m)\n\u001b[32m   1742\u001b[39m \u001b[38;5;28;01mif\u001b[39;00m na_action \u001b[38;5;129;01mis\u001b[39;00m \u001b[38;5;28;01mNone\u001b[39;00m:\n\u001b[32m-> \u001b[39m\u001b[32m1743\u001b[39m     \u001b[38;5;28;01mreturn\u001b[39;00m \u001b[43mlib\u001b[49m\u001b[43m.\u001b[49m\u001b[43mmap_infer\u001b[49m\u001b[43m(\u001b[49m\u001b[43mvalues\u001b[49m\u001b[43m,\u001b[49m\u001b[43m \u001b[49m\u001b[43mmapper\u001b[49m\u001b[43m,\u001b[49m\u001b[43m \u001b[49m\u001b[43mconvert\u001b[49m\u001b[43m=\u001b[49m\u001b[43mconvert\u001b[49m\u001b[43m)\u001b[49m\n\u001b[32m   1744\u001b[39m \u001b[38;5;28;01melse\u001b[39;00m:\n\u001b[32m   1745\u001b[39m     \u001b[38;5;28;01mreturn\u001b[39;00m lib.map_infer_mask(\n\u001b[32m   1746\u001b[39m         values, mapper, mask=isna(values).view(np.uint8), convert=convert\n\u001b[32m   1747\u001b[39m     )\n",
      "\u001b[36mFile \u001b[39m\u001b[32mlib.pyx:2972\u001b[39m, in \u001b[36mpandas._libs.lib.map_infer\u001b[39m\u001b[34m()\u001b[39m\n",
      "\u001b[36mCell\u001b[39m\u001b[36m \u001b[39m\u001b[32mIn[3]\u001b[39m\u001b[32m, line 12\u001b[39m, in \u001b[36mload_and_clean_single_run.<locals>.<lambda>\u001b[39m\u001b[34m(x)\u001b[39m\n\u001b[32m     10\u001b[39m     single_df[\u001b[33m'\u001b[39m\u001b[33manswer\u001b[39m\u001b[33m'\u001b[39m] = pd.to_numeric(single_df[\u001b[33m'\u001b[39m\u001b[33manswer\u001b[39m\u001b[33m'\u001b[39m], errors=\u001b[33m'\u001b[39m\u001b[33mcoerce\u001b[39m\u001b[33m'\u001b[39m)\n\u001b[32m     11\u001b[39m \u001b[38;5;66;03m# add category to dataframe\u001b[39;00m\n\u001b[32m---> \u001b[39m\u001b[32m12\u001b[39m single_df[\u001b[33m'\u001b[39m\u001b[33mcategory\u001b[39m\u001b[33m'\u001b[39m] = single_df[\u001b[33m'\u001b[39m\u001b[33mquestion_id\u001b[39m\u001b[33m'\u001b[39m].apply(\u001b[38;5;28;01mlambda\u001b[39;00m x: \u001b[43mQs\u001b[49m\u001b[43m.\u001b[49m\u001b[43mget_question_category\u001b[49m\u001b[43m(\u001b[49m\u001b[38;5;28;43mstr\u001b[39;49m\u001b[43m(\u001b[49m\u001b[43mx\u001b[49m\u001b[43m)\u001b[49m\u001b[43m)\u001b[49m)\n\u001b[32m     13\u001b[39m \u001b[38;5;66;03m# add label\u001b[39;00m\n\u001b[32m     14\u001b[39m \u001b[38;5;28;01mif\u001b[39;00m add_run_label:\n",
      "\u001b[36mFile \u001b[39m\u001b[32m~/Documents/GitHub/wisdom_agents/src.py:115\u001b[39m, in \u001b[36mGGB_Statements.get_question_category\u001b[39m\u001b[34m(self, question_id)\u001b[39m\n\u001b[32m    114\u001b[39m \u001b[38;5;28;01mdef\u001b[39;00m\u001b[38;5;250m \u001b[39m\u001b[34mget_question_category\u001b[39m(\u001b[38;5;28mself\u001b[39m, question_id):\n\u001b[32m--> \u001b[39m\u001b[32m115\u001b[39m     \u001b[38;5;28;01mreturn\u001b[39;00m \u001b[38;5;28;43mself\u001b[39;49m\u001b[43m.\u001b[49m\u001b[43mquestions\u001b[49m\u001b[43m[\u001b[49m\u001b[43mquestion_id\u001b[49m\u001b[43m]\u001b[49m[\u001b[33m'\u001b[39m\u001b[33mcategory\u001b[39m\u001b[33m'\u001b[39m]\n",
      "\u001b[31mKeyError\u001b[39m: '205'"
     ]
    }
   ],
   "source": [
    "single_ous_df = pd.DataFrame()\n",
    "\n",
    "for irun, runcsvs in enumerate(all_runs):\n",
    "    label = runlabels[irun]\n",
    "    # load questions approapriately\n",
    "    if label[0]=='i':\n",
    "        Qs = ous_iQs\n",
    "    else:\n",
    "        Qs = ous_Qs\n",
    "\n",
    "    temp_df = load_and_clean_single_run(alt0_csvs, Qs, label)\n",
    "    # get the (or corresponding) ous_question_id \n",
    "    temp_df['ous_question_id'] = temp_df['question_id'] % 100\n",
    "    single_ous_df = pd.concat([single_ous_df, temp_df], ignore_index=True)\n",
    "    del Qs\n",
    "    del temp_df\n",
    "    \n",
    "# add label (model and runtype)\n",
    "    \n",
    "single_ous_df['label'] = single_ous_df['run_label'] + '_' + single_ous_df['model_name'].apply(get_model_shortname)\n"
   ]
  }
 ],
 "metadata": {
  "kernelspec": {
   "display_name": "Python 3",
   "language": "python",
   "name": "python3"
  },
  "language_info": {
   "codemirror_mode": {
    "name": "ipython",
    "version": 3
   },
   "file_extension": ".py",
   "mimetype": "text/x-python",
   "name": "python",
   "nbconvert_exporter": "python",
   "pygments_lexer": "ipython3",
   "version": "3.12.2"
  }
 },
 "nbformat": 4,
 "nbformat_minor": 5
}
