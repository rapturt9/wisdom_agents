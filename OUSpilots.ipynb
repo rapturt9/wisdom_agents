{
 "cells": [
  {
   "cell_type": "code",
   "execution_count": 1,
   "id": "a5954af1",
   "metadata": {},
   "outputs": [],
   "source": [
    "import os\n",
    "from openai import OpenAI\n",
    "import json\n",
    "import collections\n",
    "\n",
    "import subprocess\n",
    "import sys\n",
    "\n",
    "\n",
    "from autogen_agentchat.agents import AssistantAgent\n",
    "from autogen_agentchat.ui import Console\n",
    "from autogen_ext.models.openai import OpenAIChatCompletionClient\n",
    "from dotenv import load_dotenv\n",
    "\n",
    "from typing import Literal\n"
   ]
  },
  {
   "cell_type": "code",
   "execution_count": 7,
   "id": "c9c1a68d",
   "metadata": {},
   "outputs": [],
   "source": [
    "# core vairables to import from src \n",
    "from src import models, TEMP\n",
    "# main functions to import from src\n",
    "from src import GGB_Statements, Single_Agent_Handler, get_prompt, get_client\n",
    "\n",
    "# helper functions to import from src to handle filenaming and checkpooints\n",
    "from src import extract_confidence_from_response_single, extract_answer_from_response_single, get_consistent_filenames, save_checkpoint, load_checkpoint\n",
    "\n",
    "# API_KEY = os.environ.get(\"OPENROUTER_API_KEY\")  # Local environment variable\n"
   ]
  },
  {
   "cell_type": "code",
   "execution_count": null,
   "id": "1d886fba",
   "metadata": {},
   "outputs": [],
   "source": [
    "# questions \n",
    "QUESTION_JSON = os.path.abspath('GGB_benchmark/OUS.json') \n",
    "Inverted_JSON = os.path.abspath('GGB_benchmark/OUSinverted.json') \n",
    "Qs = GGB_Statements(QUESTION_JSON) \n",
    "iQs = GGB_Statements(Inverted_JSON)"
   ]
  },
  {
   "cell_type": "code",
   "execution_count": null,
   "id": "a7ac10bd",
   "metadata": {},
   "outputs": [],
   "source": [
    "# prompts and basenames for different runs\n",
    "inverted_single_prompt = get_prompt(\n",
    "    persona = None, group_chat = False, reasoning = True, confidence = False, answer = True, alternative_prompt = None, invert_answer=True)\n",
    "inverted_base = 'ous_inverted'\n",
    "\n",
    "single_prompt = inverted_single_prompt = get_prompt(\n",
    "    persona = None, group_chat = False, reasoning = True, confidence = False, answer = True, alternative_prompt = None, invert_answer=False)\n",
    "single_base = 'ous'\n"
   ]
  },
  {
   "cell_type": "code",
   "execution_count": null,
   "id": "616026c9",
   "metadata": {},
   "outputs": [],
   "source": [
    "single_agent_ous_inverted = "
   ]
  }
 ],
 "metadata": {
  "kernelspec": {
   "display_name": "Python 3",
   "language": "python",
   "name": "python3"
  },
  "language_info": {
   "codemirror_mode": {
    "name": "ipython",
    "version": 3
   },
   "file_extension": ".py",
   "mimetype": "text/x-python",
   "name": "python",
   "nbconvert_exporter": "python",
   "pygments_lexer": "ipython3",
   "version": "3.12.2"
  }
 },
 "nbformat": 4,
 "nbformat_minor": 5
}
