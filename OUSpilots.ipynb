{
 "cells": [
  {
   "cell_type": "code",
   "execution_count": 1,
   "id": "a5954af1",
   "metadata": {},
   "outputs": [],
   "source": [
    "import os\n",
    "from openai import OpenAI\n",
    "import json\n",
    "import collections\n",
    "\n",
    "import subprocess\n",
    "import sys\n",
    "\n",
    "\n",
    "from autogen_agentchat.agents import AssistantAgent\n",
    "from autogen_agentchat.ui import Console\n",
    "from autogen_ext.models.openai import OpenAIChatCompletionClient\n",
    "from dotenv import load_dotenv"
   ]
  },
  {
   "cell_type": "code",
   "execution_count": null,
   "id": "4a4f2822",
   "metadata": {},
   "outputs": [
    {
     "name": "stdout",
     "output_type": "stream",
     "text": [
      "Successfully imported Literal\n"
     ]
    }
   ],
   "source": [
    "try:\n",
    "    from typing import Literal\n",
    "    print(\"Successfully imported Literal\")\n",
    "except Exception as e:\n",
    "    print(f\"Error importing Literal: {e}\")"
   ]
  },
  {
   "cell_type": "code",
   "execution_count": 12,
   "id": "1d886fba",
   "metadata": {},
   "outputs": [
    {
     "name": "stdout",
     "output_type": "stream",
     "text": [
      "Successfully imported TypingLiteral: typing.Literal\n"
     ]
    },
    {
     "ename": "NameError",
     "evalue": "name 'Literal' is not defined",
     "output_type": "error",
     "traceback": [
      "\u001b[31m---------------------------------------------------------------------------\u001b[39m",
      "\u001b[31mNameError\u001b[39m                                 Traceback (most recent call last)",
      "\u001b[36mCell\u001b[39m\u001b[36m \u001b[39m\u001b[32mIn[12]\u001b[39m\u001b[32m, line 5\u001b[39m\n\u001b[32m      2\u001b[39m \u001b[38;5;28;01mfrom\u001b[39;00m\u001b[38;5;250m \u001b[39m\u001b[34;01mtyping\u001b[39;00m\u001b[38;5;250m \u001b[39m\u001b[38;5;28;01mimport\u001b[39;00m Literal \u001b[38;5;28;01mas\u001b[39;00m TypingLiteral\n\u001b[32m      3\u001b[39m \u001b[38;5;28mprint\u001b[39m(\u001b[33m\"\u001b[39m\u001b[33mSuccessfully imported TypingLiteral:\u001b[39m\u001b[33m\"\u001b[39m, TypingLiteral)\n\u001b[32m----> \u001b[39m\u001b[32m5\u001b[39m \u001b[38;5;28;01mfrom\u001b[39;00m\u001b[38;5;250m \u001b[39m\u001b[34;01msrc\u001b[39;00m\u001b[38;5;250m \u001b[39m\u001b[38;5;28;01mimport\u001b[39;00m GGB_Statements, Single_Agent_Handler\n\u001b[32m      7\u001b[39m QUESTION_JSON = os.path.abspath(\u001b[33m'\u001b[39m\u001b[33mGGB_benchmark/OUS.json\u001b[39m\u001b[33m'\u001b[39m) \n\u001b[32m      8\u001b[39m Inverted_JSON = os.path.abspath(\u001b[33m'\u001b[39m\u001b[33mGGB_benchmark/OUSinverted.json\u001b[39m\u001b[33m'\u001b[39m) \n",
      "\u001b[36mFile \u001b[39m\u001b[32m~/Documents/GitHub/wisdom_agents/src.py:70\u001b[39m\n\u001b[32m     62\u001b[39m client = get_client()\n\u001b[32m     66\u001b[39m \u001b[38;5;66;03m##########################################\u001b[39;00m\n\u001b[32m     67\u001b[39m \u001b[38;5;66;03m# QUESTION LOADER (GGB) AND QUESTIONS\u001b[39;00m\n\u001b[32m     68\u001b[39m \u001b[38;5;66;03m##########################################\u001b[39;00m\n\u001b[32m---> \u001b[39m\u001b[32m70\u001b[39m \u001b[38;5;28;43;01mclass\u001b[39;49;00m\u001b[38;5;250;43m \u001b[39;49m\u001b[34;43;01mGGB_Statements\u001b[39;49;00m\u001b[43m:\u001b[49m\n\u001b[32m     71\u001b[39m \u001b[43m    \u001b[49m\u001b[38;5;28;43;01mdef\u001b[39;49;00m\u001b[38;5;250;43m \u001b[39;49m\u001b[34;43m__init__\u001b[39;49m\u001b[43m(\u001b[49m\u001b[38;5;28;43mself\u001b[39;49m\u001b[43m,\u001b[49m\u001b[43m \u001b[49m\u001b[43mJSONpath\u001b[49m\u001b[43m \u001b[49m\u001b[43m=\u001b[49m\u001b[43m \u001b[49m\u001b[33;43m\"\u001b[39;49m\u001b[33;43m\"\u001b[39;49m\u001b[43m)\u001b[49m\u001b[43m:\u001b[49m\n\u001b[32m     72\u001b[39m \u001b[43m        \u001b[49m\u001b[38;5;28;43mself\u001b[39;49m\u001b[43m.\u001b[49m\u001b[43mjson_data\u001b[49m\u001b[43m \u001b[49m\u001b[43m=\u001b[49m\u001b[43m \u001b[49m\u001b[38;5;28;43mself\u001b[39;49m\u001b[43m.\u001b[49m\u001b[43m_load_json\u001b[49m\u001b[43m(\u001b[49m\u001b[43mJSONpath\u001b[49m\u001b[43m)\u001b[49m\n",
      "\u001b[36mFile \u001b[39m\u001b[32m~/Documents/GitHub/wisdom_agents/src.py:95\u001b[39m, in \u001b[36mGGB_Statements\u001b[39m\u001b[34m()\u001b[39m\n\u001b[32m     92\u001b[39m         \u001b[38;5;28mprint\u001b[39m(\u001b[33mf\u001b[39m\u001b[33m'\u001b[39m\u001b[38;5;132;01m{\u001b[39;00mqstring\u001b[38;5;132;01m}\u001b[39;00m\u001b[33m'\u001b[39m)\n\u001b[32m     93\u001b[39m     \u001b[38;5;28;01mreturn\u001b[39;00m qstring\n\u001b[32m---> \u001b[39m\u001b[32m95\u001b[39m \u001b[38;5;28;01mdef\u001b[39;00m\u001b[38;5;250m \u001b[39m\u001b[34mget_questions_by_category\u001b[39m(\u001b[38;5;28mself\u001b[39m, category: \u001b[43mLiteral\u001b[49m[\u001b[33m\"\u001b[39m\u001b[33mIH\u001b[39m\u001b[33m\"\u001b[39m, \u001b[33m\"\u001b[39m\u001b[33mIB\u001b[39m\u001b[33m\"\u001b[39m], questions_only = \u001b[38;5;28;01mFalse\u001b[39;00m):\n\u001b[32m     96\u001b[39m     \u001b[38;5;66;03m# questions only means that only the statements are returned (list of strings)\u001b[39;00m\n\u001b[32m     97\u001b[39m     \u001b[38;5;66;03m# if false, then list of dict is returned with id, question, and category\u001b[39;00m\n\u001b[32m     98\u001b[39m     \u001b[38;5;28;01mif\u001b[39;00m questions_only: \n\u001b[32m     99\u001b[39m         \u001b[38;5;28;01mreturn\u001b[39;00m [q[\u001b[33m'\u001b[39m\u001b[33mquestion\u001b[39m\u001b[33m'\u001b[39m] \u001b[38;5;28;01mfor\u001b[39;00m q \u001b[38;5;129;01min\u001b[39;00m \u001b[38;5;28mself\u001b[39m.questions \u001b[38;5;28;01mif\u001b[39;00m q[\u001b[33m\"\u001b[39m\u001b[33mtype\u001b[39m\u001b[33m\"\u001b[39m] == category]\n",
      "\u001b[31mNameError\u001b[39m: name 'Literal' is not defined"
     ]
    }
   ],
   "source": [
    "import os\n",
    "from typing import Literal as TypingLiteral\n",
    "print(\"Successfully imported TypingLiteral:\", TypingLiteral)\n",
    "\n",
    "from src import GGB_Statements, Single_Agent_Handler\n",
    "\n",
    "QUESTION_JSON = os.path.abspath('GGB_benchmark/OUS.json') \n",
    "Inverted_JSON = os.path.abspath('GGB_benchmark/OUSinverted.json') \n",
    "Qs = GGB_Statements(QUESTION_JSON) \n",
    "iQs = GGB_Statements(Inverted_JSON)\n"
   ]
  },
  {
   "cell_type": "code",
   "execution_count": 11,
   "id": "35e0d296",
   "metadata": {},
   "outputs": [
    {
     "ename": "NameError",
     "evalue": "name 'Literal' is not defined",
     "output_type": "error",
     "traceback": [
      "\u001b[31m---------------------------------------------------------------------------\u001b[39m",
      "\u001b[31mNameError\u001b[39m                                 Traceback (most recent call last)",
      "\u001b[36mCell\u001b[39m\u001b[36m \u001b[39m\u001b[32mIn[11]\u001b[39m\u001b[32m, line 2\u001b[39m\n\u001b[32m      1\u001b[39m \u001b[38;5;66;03m# Inspect the src module\u001b[39;00m\n\u001b[32m----> \u001b[39m\u001b[32m2\u001b[39m \u001b[38;5;28;01mimport\u001b[39;00m\u001b[38;5;250m \u001b[39m\u001b[34;01msrc\u001b[39;00m\n\u001b[32m      3\u001b[39m \u001b[38;5;28mprint\u001b[39m(\u001b[33m\"\u001b[39m\u001b[33mAttributes in src that might conflict:\u001b[39m\u001b[33m\"\u001b[39m, [name \u001b[38;5;28;01mfor\u001b[39;00m name \u001b[38;5;129;01min\u001b[39;00m \u001b[38;5;28mdir\u001b[39m(src) \u001b[38;5;28;01mif\u001b[39;00m name \u001b[38;5;129;01min\u001b[39;00m \u001b[38;5;28mglobals\u001b[39m() \u001b[38;5;129;01mor\u001b[39;00m name == \u001b[33m'\u001b[39m\u001b[33mLiteral\u001b[39m\u001b[33m'\u001b[39m])\n",
      "\u001b[36mFile \u001b[39m\u001b[32m~/Documents/GitHub/wisdom_agents/src.py:70\u001b[39m\n\u001b[32m     62\u001b[39m client = get_client()\n\u001b[32m     66\u001b[39m \u001b[38;5;66;03m##########################################\u001b[39;00m\n\u001b[32m     67\u001b[39m \u001b[38;5;66;03m# QUESTION LOADER (GGB) AND QUESTIONS\u001b[39;00m\n\u001b[32m     68\u001b[39m \u001b[38;5;66;03m##########################################\u001b[39;00m\n\u001b[32m---> \u001b[39m\u001b[32m70\u001b[39m \u001b[38;5;28;43;01mclass\u001b[39;49;00m\u001b[38;5;250;43m \u001b[39;49m\u001b[34;43;01mGGB_Statements\u001b[39;49;00m\u001b[43m:\u001b[49m\n\u001b[32m     71\u001b[39m \u001b[43m    \u001b[49m\u001b[38;5;28;43;01mdef\u001b[39;49;00m\u001b[38;5;250;43m \u001b[39;49m\u001b[34;43m__init__\u001b[39;49m\u001b[43m(\u001b[49m\u001b[38;5;28;43mself\u001b[39;49m\u001b[43m,\u001b[49m\u001b[43m \u001b[49m\u001b[43mJSONpath\u001b[49m\u001b[43m \u001b[49m\u001b[43m=\u001b[49m\u001b[43m \u001b[49m\u001b[33;43m\"\u001b[39;49m\u001b[33;43m\"\u001b[39;49m\u001b[43m)\u001b[49m\u001b[43m:\u001b[49m\n\u001b[32m     72\u001b[39m \u001b[43m        \u001b[49m\u001b[38;5;28;43mself\u001b[39;49m\u001b[43m.\u001b[49m\u001b[43mjson_data\u001b[49m\u001b[43m \u001b[49m\u001b[43m=\u001b[49m\u001b[43m \u001b[49m\u001b[38;5;28;43mself\u001b[39;49m\u001b[43m.\u001b[49m\u001b[43m_load_json\u001b[49m\u001b[43m(\u001b[49m\u001b[43mJSONpath\u001b[49m\u001b[43m)\u001b[49m\n",
      "\u001b[36mFile \u001b[39m\u001b[32m~/Documents/GitHub/wisdom_agents/src.py:95\u001b[39m, in \u001b[36mGGB_Statements\u001b[39m\u001b[34m()\u001b[39m\n\u001b[32m     92\u001b[39m         \u001b[38;5;28mprint\u001b[39m(\u001b[33mf\u001b[39m\u001b[33m'\u001b[39m\u001b[38;5;132;01m{\u001b[39;00mqstring\u001b[38;5;132;01m}\u001b[39;00m\u001b[33m'\u001b[39m)\n\u001b[32m     93\u001b[39m     \u001b[38;5;28;01mreturn\u001b[39;00m qstring\n\u001b[32m---> \u001b[39m\u001b[32m95\u001b[39m \u001b[38;5;28;01mdef\u001b[39;00m\u001b[38;5;250m \u001b[39m\u001b[34mget_questions_by_category\u001b[39m(\u001b[38;5;28mself\u001b[39m, category: \u001b[43mLiteral\u001b[49m[\u001b[33m\"\u001b[39m\u001b[33mIH\u001b[39m\u001b[33m\"\u001b[39m, \u001b[33m\"\u001b[39m\u001b[33mIB\u001b[39m\u001b[33m\"\u001b[39m], questions_only = \u001b[38;5;28;01mFalse\u001b[39;00m):\n\u001b[32m     96\u001b[39m     \u001b[38;5;66;03m# questions only means that only the statements are returned (list of strings)\u001b[39;00m\n\u001b[32m     97\u001b[39m     \u001b[38;5;66;03m# if false, then list of dict is returned with id, question, and category\u001b[39;00m\n\u001b[32m     98\u001b[39m     \u001b[38;5;28;01mif\u001b[39;00m questions_only: \n\u001b[32m     99\u001b[39m         \u001b[38;5;28;01mreturn\u001b[39;00m [q[\u001b[33m'\u001b[39m\u001b[33mquestion\u001b[39m\u001b[33m'\u001b[39m] \u001b[38;5;28;01mfor\u001b[39;00m q \u001b[38;5;129;01min\u001b[39;00m \u001b[38;5;28mself\u001b[39m.questions \u001b[38;5;28;01mif\u001b[39;00m q[\u001b[33m\"\u001b[39m\u001b[33mtype\u001b[39m\u001b[33m\"\u001b[39m] == category]\n",
      "\u001b[31mNameError\u001b[39m: name 'Literal' is not defined"
     ]
    }
   ],
   "source": [
    "# Inspect the src module\n",
    "import src\n",
    "print(\"Attributes in src that might conflict:\", [name for name in dir(src) if name in globals() or name == 'Literal'])\n"
   ]
  },
  {
   "cell_type": "code",
   "execution_count": 8,
   "id": "41711584",
   "metadata": {},
   "outputs": [
    {
     "name": "stdout",
     "output_type": "stream",
     "text": [
      "Before src import, Literal exists: True\n"
     ]
    },
    {
     "ename": "NameError",
     "evalue": "name 'Literal' is not defined",
     "output_type": "error",
     "traceback": [
      "\u001b[31m---------------------------------------------------------------------------\u001b[39m",
      "\u001b[31mNameError\u001b[39m                                 Traceback (most recent call last)",
      "\u001b[36mCell\u001b[39m\u001b[36m \u001b[39m\u001b[32mIn[8]\u001b[39m\u001b[32m, line 6\u001b[39m\n\u001b[32m      3\u001b[39m \u001b[38;5;28mprint\u001b[39m(\u001b[33m\"\u001b[39m\u001b[33mBefore src import, Literal exists:\u001b[39m\u001b[33m\"\u001b[39m, \u001b[33m'\u001b[39m\u001b[33mLiteral\u001b[39m\u001b[33m'\u001b[39m \u001b[38;5;129;01min\u001b[39;00m \u001b[38;5;28mglobals\u001b[39m())\n\u001b[32m      5\u001b[39m \u001b[38;5;66;03m# Then import from src\u001b[39;00m\n\u001b[32m----> \u001b[39m\u001b[32m6\u001b[39m \u001b[38;5;28;01mfrom\u001b[39;00m\u001b[38;5;250m \u001b[39m\u001b[34;01msrc\u001b[39;00m\u001b[38;5;250m \u001b[39m\u001b[38;5;28;01mimport\u001b[39;00m GGB_Statements, Single_Agent_Handler\n\u001b[32m      7\u001b[39m \u001b[38;5;28;01mfrom\u001b[39;00m\u001b[38;5;250m \u001b[39m\u001b[34;01mtyping\u001b[39;00m\u001b[38;5;250m \u001b[39m\u001b[38;5;28;01mimport\u001b[39;00m Literal\n\u001b[32m      9\u001b[39m \u001b[38;5;28mprint\u001b[39m(\u001b[33m\"\u001b[39m\u001b[33mAfter src import, Literal exists:\u001b[39m\u001b[33m\"\u001b[39m, \u001b[33m'\u001b[39m\u001b[33mLiteral\u001b[39m\u001b[33m'\u001b[39m \u001b[38;5;129;01min\u001b[39;00m \u001b[38;5;28mglobals\u001b[39m())\n",
      "\u001b[36mFile \u001b[39m\u001b[32m~/Documents/GitHub/wisdom_agents/src.py:70\u001b[39m\n\u001b[32m     62\u001b[39m client = get_client()\n\u001b[32m     66\u001b[39m \u001b[38;5;66;03m##########################################\u001b[39;00m\n\u001b[32m     67\u001b[39m \u001b[38;5;66;03m# QUESTION LOADER (GGB) AND QUESTIONS\u001b[39;00m\n\u001b[32m     68\u001b[39m \u001b[38;5;66;03m##########################################\u001b[39;00m\n\u001b[32m---> \u001b[39m\u001b[32m70\u001b[39m \u001b[38;5;28;43;01mclass\u001b[39;49;00m\u001b[38;5;250;43m \u001b[39;49m\u001b[34;43;01mGGB_Statements\u001b[39;49;00m\u001b[43m:\u001b[49m\n\u001b[32m     71\u001b[39m \u001b[43m    \u001b[49m\u001b[38;5;28;43;01mdef\u001b[39;49;00m\u001b[38;5;250;43m \u001b[39;49m\u001b[34;43m__init__\u001b[39;49m\u001b[43m(\u001b[49m\u001b[38;5;28;43mself\u001b[39;49m\u001b[43m,\u001b[49m\u001b[43m \u001b[49m\u001b[43mJSONpath\u001b[49m\u001b[43m \u001b[49m\u001b[43m=\u001b[49m\u001b[43m \u001b[49m\u001b[33;43m\"\u001b[39;49m\u001b[33;43m\"\u001b[39;49m\u001b[43m)\u001b[49m\u001b[43m:\u001b[49m\n\u001b[32m     72\u001b[39m \u001b[43m        \u001b[49m\u001b[38;5;28;43mself\u001b[39;49m\u001b[43m.\u001b[49m\u001b[43mjson_data\u001b[49m\u001b[43m \u001b[49m\u001b[43m=\u001b[49m\u001b[43m \u001b[49m\u001b[38;5;28;43mself\u001b[39;49m\u001b[43m.\u001b[49m\u001b[43m_load_json\u001b[49m\u001b[43m(\u001b[49m\u001b[43mJSONpath\u001b[49m\u001b[43m)\u001b[49m\n",
      "\u001b[36mFile \u001b[39m\u001b[32m~/Documents/GitHub/wisdom_agents/src.py:95\u001b[39m, in \u001b[36mGGB_Statements\u001b[39m\u001b[34m()\u001b[39m\n\u001b[32m     92\u001b[39m         \u001b[38;5;28mprint\u001b[39m(\u001b[33mf\u001b[39m\u001b[33m'\u001b[39m\u001b[38;5;132;01m{\u001b[39;00mqstring\u001b[38;5;132;01m}\u001b[39;00m\u001b[33m'\u001b[39m)\n\u001b[32m     93\u001b[39m     \u001b[38;5;28;01mreturn\u001b[39;00m qstring\n\u001b[32m---> \u001b[39m\u001b[32m95\u001b[39m \u001b[38;5;28;01mdef\u001b[39;00m\u001b[38;5;250m \u001b[39m\u001b[34mget_questions_by_category\u001b[39m(\u001b[38;5;28mself\u001b[39m, category: \u001b[43mLiteral\u001b[49m[\u001b[33m\"\u001b[39m\u001b[33mIH\u001b[39m\u001b[33m\"\u001b[39m, \u001b[33m\"\u001b[39m\u001b[33mIB\u001b[39m\u001b[33m\"\u001b[39m], questions_only = \u001b[38;5;28;01mFalse\u001b[39;00m):\n\u001b[32m     96\u001b[39m     \u001b[38;5;66;03m# questions only means that only the statements are returned (list of strings)\u001b[39;00m\n\u001b[32m     97\u001b[39m     \u001b[38;5;66;03m# if false, then list of dict is returned with id, question, and category\u001b[39;00m\n\u001b[32m     98\u001b[39m     \u001b[38;5;28;01mif\u001b[39;00m questions_only: \n\u001b[32m     99\u001b[39m         \u001b[38;5;28;01mreturn\u001b[39;00m [q[\u001b[33m'\u001b[39m\u001b[33mquestion\u001b[39m\u001b[33m'\u001b[39m] \u001b[38;5;28;01mfor\u001b[39;00m q \u001b[38;5;129;01min\u001b[39;00m \u001b[38;5;28mself\u001b[39m.questions \u001b[38;5;28;01mif\u001b[39;00m q[\u001b[33m\"\u001b[39m\u001b[33mtype\u001b[39m\u001b[33m\"\u001b[39m] == category]\n",
      "\u001b[31mNameError\u001b[39m: name 'Literal' is not defined"
     ]
    }
   ],
   "source": [
    "# First import and check\n",
    "from typing import Literal\n",
    "print(\"Before src import, Literal exists:\", 'Literal' in globals())\n",
    "\n",
    "# Then import from src\n",
    "from src import GGB_Statements, Single_Agent_Handler\n",
    "from typing import Literal\n",
    "\n",
    "print(\"After src import, Literal exists:\", 'Literal' in globals())"
   ]
  },
  {
   "cell_type": "code",
   "execution_count": 4,
   "id": "d8b7c5ec",
   "metadata": {},
   "outputs": [
    {
     "ename": "NameError",
     "evalue": "name 'Literal' is not defined",
     "output_type": "error",
     "traceback": [
      "\u001b[31m---------------------------------------------------------------------------\u001b[39m",
      "\u001b[31mNameError\u001b[39m                                 Traceback (most recent call last)",
      "\u001b[36mCell\u001b[39m\u001b[36m \u001b[39m\u001b[32mIn[4]\u001b[39m\u001b[32m, line 2\u001b[39m\n\u001b[32m      1\u001b[39m \u001b[38;5;28;01mfrom\u001b[39;00m\u001b[38;5;250m \u001b[39m\u001b[34;01mtyping\u001b[39;00m\u001b[38;5;250m \u001b[39m\u001b[38;5;28;01mimport\u001b[39;00m Literal\n\u001b[32m----> \u001b[39m\u001b[32m2\u001b[39m \u001b[38;5;28;01mfrom\u001b[39;00m\u001b[38;5;250m \u001b[39m\u001b[34;01msrc\u001b[39;00m\u001b[38;5;250m \u001b[39m\u001b[38;5;28;01mimport\u001b[39;00m GGB_Statements, Single_Agent_Handler\n\u001b[32m      5\u001b[39m QUESTION_JSON = os.path.abspath(\u001b[33m'\u001b[39m\u001b[33mGGB_benchmark/OUS.json\u001b[39m\u001b[33m'\u001b[39m) \n\u001b[32m      6\u001b[39m Inverted_JSON = os.path.abspath(\u001b[33m'\u001b[39m\u001b[33mGGB_benchmark/OUSinverted.json\u001b[39m\u001b[33m'\u001b[39m) \n",
      "\u001b[36mFile \u001b[39m\u001b[32m~/Documents/GitHub/wisdom_agents/src.py:70\u001b[39m\n\u001b[32m     62\u001b[39m client = get_client()\n\u001b[32m     66\u001b[39m \u001b[38;5;66;03m##########################################\u001b[39;00m\n\u001b[32m     67\u001b[39m \u001b[38;5;66;03m# QUESTION LOADER (GGB) AND QUESTIONS\u001b[39;00m\n\u001b[32m     68\u001b[39m \u001b[38;5;66;03m##########################################\u001b[39;00m\n\u001b[32m---> \u001b[39m\u001b[32m70\u001b[39m \u001b[38;5;28;43;01mclass\u001b[39;49;00m\u001b[38;5;250;43m \u001b[39;49m\u001b[34;43;01mGGB_Statements\u001b[39;49;00m\u001b[43m:\u001b[49m\n\u001b[32m     71\u001b[39m \u001b[43m    \u001b[49m\u001b[38;5;28;43;01mdef\u001b[39;49;00m\u001b[38;5;250;43m \u001b[39;49m\u001b[34;43m__init__\u001b[39;49m\u001b[43m(\u001b[49m\u001b[38;5;28;43mself\u001b[39;49m\u001b[43m,\u001b[49m\u001b[43m \u001b[49m\u001b[43mJSONpath\u001b[49m\u001b[43m \u001b[49m\u001b[43m=\u001b[49m\u001b[43m \u001b[49m\u001b[33;43m\"\u001b[39;49m\u001b[33;43m\"\u001b[39;49m\u001b[43m)\u001b[49m\u001b[43m:\u001b[49m\n\u001b[32m     72\u001b[39m \u001b[43m        \u001b[49m\u001b[38;5;28;43mself\u001b[39;49m\u001b[43m.\u001b[49m\u001b[43mjson_data\u001b[49m\u001b[43m \u001b[49m\u001b[43m=\u001b[49m\u001b[43m \u001b[49m\u001b[38;5;28;43mself\u001b[39;49m\u001b[43m.\u001b[49m\u001b[43m_load_json\u001b[49m\u001b[43m(\u001b[49m\u001b[43mJSONpath\u001b[49m\u001b[43m)\u001b[49m\n",
      "\u001b[36mFile \u001b[39m\u001b[32m~/Documents/GitHub/wisdom_agents/src.py:95\u001b[39m, in \u001b[36mGGB_Statements\u001b[39m\u001b[34m()\u001b[39m\n\u001b[32m     92\u001b[39m         \u001b[38;5;28mprint\u001b[39m(\u001b[33mf\u001b[39m\u001b[33m'\u001b[39m\u001b[38;5;132;01m{\u001b[39;00mqstring\u001b[38;5;132;01m}\u001b[39;00m\u001b[33m'\u001b[39m)\n\u001b[32m     93\u001b[39m     \u001b[38;5;28;01mreturn\u001b[39;00m qstring\n\u001b[32m---> \u001b[39m\u001b[32m95\u001b[39m \u001b[38;5;28;01mdef\u001b[39;00m\u001b[38;5;250m \u001b[39m\u001b[34mget_questions_by_category\u001b[39m(\u001b[38;5;28mself\u001b[39m, category: \u001b[43mLiteral\u001b[49m[\u001b[33m\"\u001b[39m\u001b[33mIH\u001b[39m\u001b[33m\"\u001b[39m, \u001b[33m\"\u001b[39m\u001b[33mIB\u001b[39m\u001b[33m\"\u001b[39m], questions_only = \u001b[38;5;28;01mFalse\u001b[39;00m):\n\u001b[32m     96\u001b[39m     \u001b[38;5;66;03m# questions only means that only the statements are returned (list of strings)\u001b[39;00m\n\u001b[32m     97\u001b[39m     \u001b[38;5;66;03m# if false, then list of dict is returned with id, question, and category\u001b[39;00m\n\u001b[32m     98\u001b[39m     \u001b[38;5;28;01mif\u001b[39;00m questions_only: \n\u001b[32m     99\u001b[39m         \u001b[38;5;28;01mreturn\u001b[39;00m [q[\u001b[33m'\u001b[39m\u001b[33mquestion\u001b[39m\u001b[33m'\u001b[39m] \u001b[38;5;28;01mfor\u001b[39;00m q \u001b[38;5;129;01min\u001b[39;00m \u001b[38;5;28mself\u001b[39m.questions \u001b[38;5;28;01mif\u001b[39;00m q[\u001b[33m\"\u001b[39m\u001b[33mtype\u001b[39m\u001b[33m\"\u001b[39m] == category]\n",
      "\u001b[31mNameError\u001b[39m: name 'Literal' is not defined"
     ]
    }
   ],
   "source": [
    "from typing import Literal\n",
    "from src import GGB_Statements, Single_Agent_Handler\n",
    "\n",
    "\n",
    "QUESTION_JSON = os.path.abspath('GGB_benchmark/OUS.json') \n",
    "Inverted_JSON = os.path.abspath('GGB_benchmark/OUSinverted.json') \n",
    "\n",
    "Qs = GGB_Statements(QUESTION_JSON)\n",
    "iQs = GGB_Statements(Inverted_JSON)\n",
    "\n"
   ]
  }
 ],
 "metadata": {
  "kernelspec": {
   "display_name": "Python 3",
   "language": "python",
   "name": "python3"
  },
  "language_info": {
   "codemirror_mode": {
    "name": "ipython",
    "version": 3
   },
   "file_extension": ".py",
   "mimetype": "text/x-python",
   "name": "python",
   "nbconvert_exporter": "python",
   "pygments_lexer": "ipython3",
   "version": "3.12.2"
  }
 },
 "nbformat": 4,
 "nbformat_minor": 5
}
